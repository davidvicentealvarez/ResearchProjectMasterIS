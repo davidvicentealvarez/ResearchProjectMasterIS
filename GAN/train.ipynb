{
 "cells": [
  {
   "cell_type": "code",
   "execution_count": 1,
   "metadata": {
    "collapsed": true
   },
   "outputs": [],
   "source": [
    "import os\n",
    "import numpy as np\n",
    "import torch\n",
    "from data import ceasar_shift, convert_data\n",
    "from torch import nn\n",
    "from torch.utils.data.sampler import SubsetRandomSampler\n",
    "import torch.optim as optim\n",
    "from torch.utils.data import Dataset, DataLoader\n",
    "from model import Generator, Discriminator, GeneratorV2, DiscriminatorV2\n",
    "import matplotlib.pyplot as plt\n",
    "from IPython.display import display, clear_output\n",
    "import wandb\n",
    "import datetime\n",
    "from torch.autograd import Variable\n",
    "from torch import autograd"
   ]
  },
  {
   "cell_type": "markdown",
   "source": [
    "## Init parameters"
   ],
   "metadata": {
    "collapsed": false,
    "pycharm": {
     "name": "#%% md\n"
    }
   }
  },
  {
   "cell_type": "code",
   "execution_count": 2,
   "outputs": [],
   "source": [
    "os.environ[\"WANDB_SILENT\"] = \"true\"\n",
    "# os.environ[\"WANDB_MODE\"] = \"offline\"\n",
    "torch.manual_seed(1)\n",
    "np.random.seed(1)\n",
    "# init parameters\n",
    "wandb.config = {\n",
    "    \"version\" : 1,\n",
    "    \"batch_size\" : 64,\n",
    "    \"num_epochs\" : 10,\n",
    "    \"lr_gen\" : 0.002,\n",
    "    \"lr_discr\" : 0.0002,\n",
    "    \"beta1\" : 0.9,\n",
    "    \"beta2\" : 0.999,\n",
    "    \"device\" :  \"cuda\" if torch.cuda.is_available() else \"cpu\",\n",
    "    \"shift\" : 10,\n",
    "    \"reg\" : 5,\n",
    "    \"instance_size\" : 100,\n",
    "    \"dictionary_size\" : 27,\n",
    "    \"discriminator_step\" : 5,\n",
    "    \"generator_step\" : 1,\n",
    "    \"lambda_term\":10\n",
    "}\n",
    "run = wandb.init(project=\"Research_project_IS\", entity=\"davidvicente\", name=str(datetime.datetime.now()), config=wandb.config)"
   ],
   "metadata": {
    "collapsed": false,
    "pycharm": {
     "name": "#%%\n"
    }
   }
  },
  {
   "cell_type": "markdown",
   "source": [
    "## Load data\n"
   ],
   "metadata": {
    "collapsed": false
   }
  },
  {
   "cell_type": "code",
   "execution_count": 3,
   "outputs": [
    {
     "name": "stdout",
     "output_type": "stream",
     "text": [
      "(24206, 100, 27) int32\n",
      "(24206, 100, 27) int32\n"
     ]
    }
   ],
   "source": [
    "## Create data\n",
    "np_data = convert_data(fixed_len=wandb.config[\"instance_size\"])\n",
    "np_crypted_data = ceasar_shift(np_data, wandb.config[\"shift\"])\n",
    "\n",
    "tensor_clear_text = torch.from_numpy(np_data)\n",
    "tensor_crypted_data = torch.from_numpy(np_crypted_data)\n",
    "\n",
    "tensor_clear_text = tensor_clear_text.float().view(-1, 1, wandb.config[\"instance_size\"], wandb.config[\"dictionary_size\"])\n",
    "tensor_crypted_data = tensor_crypted_data.float().view(-1, 1, wandb.config[\"instance_size\"], wandb.config[\"dictionary_size\"])"
   ],
   "metadata": {
    "collapsed": false,
    "pycharm": {
     "name": "#%%\n"
    }
   }
  },
  {
   "cell_type": "markdown",
   "source": [
    "## Shuffle Data, and split it into train/test/validation splits (60/20/20)"
   ],
   "metadata": {
    "collapsed": false
   }
  },
  {
   "cell_type": "code",
   "execution_count": 4,
   "outputs": [],
   "source": [
    "num_train = len(tensor_clear_text)\n",
    "indices_clear = list(range(num_train))\n",
    "indices_crypted = list(range(num_train))\n",
    "np.random.shuffle(indices_clear)\n",
    "np.random.shuffle(indices_crypted)\n",
    "train_split = int(np.floor(0.6 * num_train))\n",
    "test_split = int(np.floor(0.8 * num_train))\n",
    "\n",
    "\n",
    "clear_txt_train = tensor_clear_text[indices_clear[:train_split]]\n",
    "clear_txt_test = tensor_clear_text[indices_clear[train_split:test_split]]\n",
    "clear_txt_valid = tensor_clear_text[indices_clear[test_split:]]\n",
    "\n",
    "crypted_txt_train = tensor_crypted_data[indices_crypted[:train_split]]\n",
    "crypted_txt_test = tensor_crypted_data[indices_crypted[train_split:test_split]]\n",
    "crypted_txt_valid = tensor_crypted_data[indices_crypted[test_split:]]"
   ],
   "metadata": {
    "collapsed": false,
    "pycharm": {
     "name": "#%%\n"
    }
   }
  },
  {
   "cell_type": "markdown",
   "source": [
    "## Create data loaders"
   ],
   "metadata": {
    "collapsed": false
   }
  },
  {
   "cell_type": "code",
   "execution_count": 5,
   "outputs": [],
   "source": [
    "train_clear_loader = DataLoader(clear_txt_train, batch_size=wandb.config[\"batch_size\"])\n",
    "train_crypted_loader = DataLoader(crypted_txt_train, batch_size=wandb.config[\"batch_size\"])"
   ],
   "metadata": {
    "collapsed": false,
    "pycharm": {
     "name": "#%%\n"
    }
   }
  },
  {
   "cell_type": "markdown",
   "source": [
    "## Init generators and discriminators"
   ],
   "metadata": {
    "collapsed": false
   }
  },
  {
   "cell_type": "code",
   "execution_count": 6,
   "outputs": [
    {
     "data": {
      "text/plain": "[]"
     },
     "execution_count": 6,
     "metadata": {},
     "output_type": "execute_result"
    }
   ],
   "source": [
    "if wandb.config[\"version\"] ==  2:\n",
    "    crypted_gen = GeneratorV2(wandb.config[\"instance_size\"], wandb.config[\"dictionary_size\"]).to(wandb.config[\"device\"]) # converts clear to crypted\n",
    "    clear_gen = GeneratorV2(wandb.config[\"instance_size\"], wandb.config[\"dictionary_size\"]).to(wandb.config[\"device\"]) # converts crypted to clear\n",
    "    crypted_discr = DiscriminatorV2(wandb.config[\"instance_size\"], wandb.config[\"dictionary_size\"]).to(wandb.config[\"device\"])\n",
    "    clear_discr = DiscriminatorV2(wandb.config[\"instance_size\"], wandb.config[\"dictionary_size\"]).to(wandb.config[\"device\"])\n",
    "else :\n",
    "    crypted_gen = Generator(wandb.config[\"instance_size\"], wandb.config[\"dictionary_size\"]).to(wandb.config[\"device\"]) # converts clear to crypted\n",
    "    clear_gen = Generator(wandb.config[\"instance_size\"], wandb.config[\"dictionary_size\"]).to(wandb.config[\"device\"]) # converts crypted to clear\n",
    "    crypted_discr = Discriminator(wandb.config[\"instance_size\"], wandb.config[\"dictionary_size\"]).to(wandb.config[\"device\"])\n",
    "    clear_discr = Discriminator(wandb.config[\"instance_size\"], wandb.config[\"dictionary_size\"]).to(wandb.config[\"device\"])\n",
    "\n",
    "wandb.watch(crypted_gen)\n",
    "wandb.watch(clear_gen)\n",
    "wandb.watch(crypted_discr)\n",
    "wandb.watch(clear_discr)"
   ],
   "metadata": {
    "collapsed": false,
    "pycharm": {
     "name": "#%%\n"
    }
   }
  },
  {
   "cell_type": "markdown",
   "source": [
    "## Init Optimizers and losses"
   ],
   "metadata": {
    "collapsed": false
   }
  },
  {
   "cell_type": "code",
   "execution_count": 7,
   "outputs": [],
   "source": [
    "# Setup Adam optimizers for both generators\n",
    "optimizer_crypted_gen = optim.Adam(crypted_gen.parameters(), lr=wandb.config[\"lr_gen\"], betas=(wandb.config[\"beta1\"], wandb.config[\"beta2\"]))\n",
    "optimizer_clear_gen = optim.Adam(clear_gen.parameters(), lr=wandb.config[\"lr_gen\"], betas=(wandb.config[\"beta1\"], wandb.config[\"beta2\"]))\n",
    "\n",
    "# Setup Adam optimizers for both discriminators\n",
    "optimizer_crypted_discr= optim.Adam(crypted_discr.parameters(), lr=wandb.config[\"lr_discr\"], betas=(wandb.config[\"beta1\"], wandb.config[\"beta2\"]))\n",
    "optimizer_clear_discr = optim.Adam(clear_discr.parameters(), lr=wandb.config[\"lr_discr\"], betas=(wandb.config[\"beta1\"], wandb.config[\"beta2\"]))\n",
    "\n",
    "# Create Losses\n",
    "BCE = nn.BCELoss()\n",
    "cross_entropy = nn.CrossEntropyLoss()"
   ],
   "metadata": {
    "collapsed": false,
    "pycharm": {
     "name": "#%%\n"
    }
   }
  },
  {
   "cell_type": "markdown",
   "source": [
    "## Precompute test ground truth"
   ],
   "metadata": {
    "collapsed": false
   }
  },
  {
   "cell_type": "code",
   "execution_count": null,
   "outputs": [],
   "source": [
    "with torch.no_grad():\n",
    "    # Create the True encryption of each test instance\n",
    "    test_crypt_np = crypted_txt_test.view(-1,wandb.config[\"instance_size\"],wandb.config[\"dictionary_size\"]).detach().numpy()\n",
    "    test_decrypted_np = ceasar_shift(test_crypt_np, -wandb.config[\"shift\"])\n",
    "    test_decrypted_np_char = np.argmax(test_decrypted_np, axis=2).reshape(-1)\n",
    "    test_decrypted = torch.from_numpy(test_decrypted_np_char)\n",
    "    crypted_txt_test = crypted_txt_test.float()\n",
    "\n",
    "    # Create the True decryption of each test instance\n",
    "    test_clear_np = clear_txt_test.view(-1,wandb.config[\"instance_size\"],wandb.config[\"dictionary_size\"]).detach().numpy()\n",
    "    test_encrypted_np = ceasar_shift(test_clear_np, wandb.config[\"shift\"])\n",
    "    test_encrypted_np_char = np.argmax(test_encrypted_np, axis=2).reshape(-1)\n",
    "    test_encrypted = torch.from_numpy(test_encrypted_np_char)\n",
    "    clear_txt_test = clear_txt_test.float()"
   ],
   "metadata": {
    "collapsed": false,
    "pycharm": {
     "name": "#%%\n"
    }
   }
  },
  {
   "cell_type": "markdown",
   "source": [
    "# Gradient penalty for discriminators"
   ],
   "metadata": {
    "collapsed": false
   }
  },
  {
   "cell_type": "code",
   "execution_count": null,
   "outputs": [],
   "source": [
    "def compute_gradient_penalty(discriminator, real_data, fake_data):\n",
    "    eta = torch.FloatTensor(real_data.size(0),1,1,1).uniform_(0,1).to(wandb.config[\"device\"])\n",
    "    eta = eta.expand(real_data.size(0), real_data.size(1), real_data.size(2), real_data.size(3))\n",
    "    interpolated = eta * real_data + ((1 - eta) * fake_data).to(wandb.config[\"device\"])\n",
    "    interpolated = Variable(interpolated, requires_grad=True)\n",
    "    prob_interpolated = discriminator(interpolated)\n",
    "    gradients = autograd.grad(outputs=prob_interpolated, inputs=interpolated,\n",
    "                               grad_outputs=torch.ones(\n",
    "                                   prob_interpolated.size()).to(wandb.config[\"device\"]),\n",
    "                               create_graph=True, retain_graph=True)[0]\n",
    "    grad_penalty = ((gradients.norm(2, dim=1) - 1) ** 2).mean() * wandb.config[\"lambda_term\"]\n",
    "    return grad_penalty"
   ],
   "metadata": {
    "collapsed": false,
    "pycharm": {
     "name": "#%%\n"
    }
   }
  },
  {
   "cell_type": "markdown",
   "source": [
    "# Train loop"
   ],
   "metadata": {
    "collapsed": false,
    "pycharm": {
     "name": "#%% md\n"
    }
   }
  },
  {
   "cell_type": "code",
   "execution_count": null,
   "outputs": [],
   "source": [
    "torch.autograd.set_detect_anomaly(True)\n",
    "for epoch in range(wandb.config[\"num_epochs\"]):\n",
    "\n",
    "    dataloader_iterator = iter(train_crypted_loader)\n",
    "\n",
    "    for i, clear in enumerate(train_clear_loader):\n",
    "        wandb.log({\"epoch\": epoch})\n",
    "\n",
    "        crypted_gen.train()\n",
    "        clear_gen.train()\n",
    "        crypted_discr.train()\n",
    "        clear_discr.train()\n",
    "\n",
    "        try:\n",
    "            crypted = next(dataloader_iterator)\n",
    "        except StopIteration:\n",
    "            dataloader_iterator = iter(train_clear_loader)\n",
    "            crypted = next(dataloader_iterator)\n",
    "\n",
    "        real_clear_text = clear.to(wandb.config[\"device\"])\n",
    "        real_crypted_text = crypted.to(wandb.config[\"device\"])\n",
    "\n",
    "        if i%wandb.config[\"discriminator_step\"] == 0:\n",
    "\n",
    "            ###############################\n",
    "            ### precompute clear fakes ####\n",
    "            ###############################\n",
    "\n",
    "            fake_clear_text = clear_gen(real_crypted_text)\n",
    "\n",
    "            ############################################\n",
    "            ### empty clear discriminator gradients ####\n",
    "            ############################################\n",
    "\n",
    "            clear_discr.zero_grad()\n",
    "\n",
    "            ###############################################\n",
    "            ### train clear discriminator on true data ####\n",
    "            ###############################################\n",
    "\n",
    "            pred_real_clear = clear_discr(real_clear_text)\n",
    "            # true_labels = torch.full((len(real_clear_text),1), 1, dtype=torch.float, device=wandb.config[\"device\"])\n",
    "            # batch_clear_d_true_loss = BCE(pred_real_clear, true_labels)\n",
    "            batch_clear_d_true_loss = torch.mean(pred_real_clear)\n",
    "            wandb.log({\"clear discr real error\" : -pred_real_clear.mean().item()})\n",
    "            # batch_clear_d_true_loss.backward()\n",
    "\n",
    "            ###############################################\n",
    "            ### train clear discriminator on fake data ####\n",
    "            ###############################################\n",
    "\n",
    "            pred_fake_clear  = clear_discr(fake_clear_text.detach())\n",
    "            # fake_labels = torch.full((len(real_clear_text),1), 0, dtype=torch.float, device=wandb.config[\"device\"])\n",
    "            # batch_clear_d_fake_loss = BCE(pred_fake_clear, fake_labels)\n",
    "            batch_clear_d_fake_loss = torch.mean(pred_fake_clear)\n",
    "            wandb.log({\"clear discr fake error\": pred_fake_clear.mean().item()})\n",
    "            # batch_clear_d_fake_loss.backward()\n",
    "\n",
    "            #########################################################\n",
    "            ### Compute Gradient penalty for clear discriminator ####\n",
    "            #########################################################\n",
    "\n",
    "            gradient_penalty = compute_gradient_penalty(clear_discr, real_clear_text, fake_clear_text)\n",
    "            wandb.log({\"clear discr gradient penalty\": gradient_penalty.item()})\n",
    "            # gradient_penalty.backward()\n",
    "\n",
    "            ################################################\n",
    "            ### Compute final error clear discriminator ####\n",
    "            ################################################\n",
    "\n",
    "            error_d_clear = -batch_clear_d_true_loss  + batch_clear_d_fake_loss  + gradient_penalty\n",
    "            wandb.log({\"loss discriminator clear\": error_d_clear.item()})\n",
    "\n",
    "            ################################################\n",
    "            ### Optimize and update clear discriminator ####\n",
    "            ################################################\n",
    "\n",
    "            error_d_clear.backward()\n",
    "            optimizer_clear_discr.step()\n",
    "\n",
    "            #---------------------------------------#\n",
    "            #---------------------------------------#\n",
    "\n",
    "            #################################\n",
    "            ### precompute crypted fakes ####\n",
    "            #################################\n",
    "\n",
    "            fake_crypted_text = crypted_gen(real_clear_text)\n",
    "\n",
    "            ##############################################\n",
    "            ### empty crypted discriminator gradients ####\n",
    "            ##############################################\n",
    "\n",
    "            crypted_discr.zero_grad()\n",
    "\n",
    "            #################################################\n",
    "            ### train crypted discriminator on true data ####\n",
    "            #################################################\n",
    "\n",
    "            pred_real_crypted = crypted_discr(real_crypted_text)\n",
    "            # true_labels = torch.full((len(real_crypted_text),1), 1, dtype=torch.float, device=wandb.config[\"device\"])\n",
    "            # batch_crypted_d_true_loss = BCE(pred_real_crypted, true_labels)\n",
    "            batch_crypted_d_true_loss = torch.mean(pred_real_crypted)\n",
    "            wandb.log({\"crypted discr real error\": -pred_real_crypted.mean().item()})\n",
    "            # batch_crypted_d_true_loss.backward()\n",
    "\n",
    "            #################################################\n",
    "            ### train crypted discriminator on fake data ####\n",
    "            #################################################\n",
    "\n",
    "            pred_fake_crypted  = crypted_discr(fake_crypted_text.detach())\n",
    "            # fake_labels = torch.full((len(fake_crypted_text),1), 0, dtype=torch.float, device=wandb.config[\"device\"])\n",
    "            # batch_crypted_d_fake_loss = BCE(pred_fake_crypted, fake_labels)\n",
    "            batch_crypted_d_fake_loss = torch.mean(pred_fake_crypted)\n",
    "            wandb.log({\"crypted discr fake error\": pred_fake_crypted.mean().item()})\n",
    "            # batch_crypted_d_fake_loss.backward()\n",
    "\n",
    "            ###########################################################\n",
    "            ### Compute Gradient penalty for crypted discriminator ####\n",
    "            ###########################################################\n",
    "\n",
    "            gradient_penalty = compute_gradient_penalty(crypted_discr, real_crypted_text, fake_crypted_text)\n",
    "            wandb.log({\"crypted discr gradient penalty\": gradient_penalty.item()})\n",
    "            # gradient_penalty.backward()\n",
    "\n",
    "            ##################################################\n",
    "            ### Compute final error crypted discriminator ####\n",
    "            ##################################################\n",
    "\n",
    "            error_d_crypted = - batch_crypted_d_true_loss + batch_crypted_d_fake_loss + gradient_penalty\n",
    "            wandb.log({\"loss discriminator crypted\": error_d_crypted.item()})\n",
    "\n",
    "            ##################################################\n",
    "            ### Optimize and update crypted discriminator ####\n",
    "            ##################################################\n",
    "\n",
    "            error_d_crypted.backward()\n",
    "            optimizer_crypted_discr.step()\n",
    "\n",
    "            #---------------------------------------#\n",
    "            #---------------------------------------#\n",
    "\n",
    "        if i%wandb.config[\"generator_step\"] == 0:\n",
    "\n",
    "            ###################################\n",
    "            ### empty generators gradients ####\n",
    "            ###################################\n",
    "\n",
    "            clear_gen.zero_grad()\n",
    "            crypted_gen.zero_grad()\n",
    "\n",
    "            #################################################\n",
    "            ### train clear generator with discriminator ####\n",
    "            #################################################\n",
    "\n",
    "            fake_clear_text = clear_gen(real_crypted_text)\n",
    "            gen_fake_clear = clear_discr(fake_clear_text)\n",
    "            # gen_labels = torch.full((len(fake_clear_text),1), 1, dtype=torch.float, device=wandb.config[\"device\"])\n",
    "            # fake_gen_clear_loss = BCE(gen_fake_clear, gen_labels)\n",
    "            fake_gen_clear_loss = torch.mean(gen_fake_clear)\n",
    "            wandb.log({\"clear gen error\" : -gen_fake_clear.mean().item()})\n",
    "            # fake_gen_clear_loss.backward()\n",
    "\n",
    "            ##################################\n",
    "            ### First reconstruction loss ####\n",
    "            ##################################\n",
    "\n",
    "            fake_crypted_reconstruct = crypted_gen(clear_gen(real_crypted_text))\n",
    "            # fake_crypted_reconstruct_loss = torch.linalg.norm((fake_crypted_reconstruct - real_crypted_text)**2, dim=(2,3)).mean() * wandb.config[\"reg\"]\n",
    "            fake_crypted_reconstruct_loss = cross_entropy(fake_crypted_reconstruct.view(-1, wandb.config[\"instance_size\"], wandb.config[\"dictionary_size\"]).transpose(1,2), torch.argmax(real_crypted_text, 3).view(-1,wandb.config[\"instance_size\"])) * wandb.config[\"reg\"]\n",
    "            # fake_crypted_reconstruct_loss.backward()\n",
    "            wandb.log({\"clear gen reconstruction error 1\" : fake_crypted_reconstruct_loss.item()})\n",
    "\n",
    "            ##################################\n",
    "            ### Second reconstruction loss ###\n",
    "            ##################################\n",
    "\n",
    "            fake_clear_reconstruct =  clear_gen(crypted_gen(real_clear_text))\n",
    "            # fake_clear_reconstruct_loss = torch.linalg.norm((fake_clear_reconstruct - real_clear_text)**2, dim=(2,3)).mean() * wandb.config[\"reg\"]\n",
    "            fake_clear_reconstruct_loss = cross_entropy(fake_clear_reconstruct.view(-1, wandb.config[\"instance_size\"], wandb.config[\"dictionary_size\"]).transpose(1,2), torch.argmax(real_clear_text, 3).view(-1,wandb.config[\"instance_size\"])) * wandb.config[\"reg\"]\n",
    "            # fake_clear_reconstruct_loss.backward()\n",
    "            wandb.log({\"clear gen reconstruction error 2\" : fake_clear_reconstruct_loss.item()})\n",
    "\n",
    "            ############################################\n",
    "            ### Compute final error clear generator ####\n",
    "            ############################################\n",
    "\n",
    "            batch_clear_gen_loss = -fake_gen_clear_loss + fake_crypted_reconstruct_loss + fake_clear_reconstruct_loss\n",
    "            wandb.log({\"loss generator clear\": batch_clear_gen_loss.item()})\n",
    "\n",
    "            ############################################\n",
    "            ### Optimize and update clear generator ####\n",
    "            ############################################\n",
    "\n",
    "            batch_clear_gen_loss.backward()\n",
    "            optimizer_clear_gen.step()\n",
    "\n",
    "            #---------------------------------------#\n",
    "            #---------------------------------------#\n",
    "\n",
    "            ###################################\n",
    "            ### empty generators gradients ####\n",
    "            ###################################\n",
    "\n",
    "            crypted_gen.zero_grad()\n",
    "            clear_gen.zero_grad()\n",
    "\n",
    "            ###################################################\n",
    "            ### train crypted generator with discriminator ####\n",
    "            ###################################################\n",
    "\n",
    "            fake_crypted_text = crypted_gen(real_clear_text)\n",
    "            gen_fake_crypted = crypted_discr(fake_crypted_text)\n",
    "            # gen_labels = torch.full((len(fake_crypted_text),1), 1, dtype=torch.float, device=wandb.config[\"device\"])\n",
    "            # fake_gen_crypted_loss = BCE(gen_fake_crypted, gen_labels)\n",
    "            fake_gen_crypted_loss = torch.mean(gen_fake_crypted)\n",
    "            wandb.log({\"crypted gen error\" : - gen_fake_crypted.mean().item()})\n",
    "            # fake_gen_crypted_loss.backward()\n",
    "\n",
    "            ##################################\n",
    "            ### First reconstruction loss ####\n",
    "            ##################################\n",
    "\n",
    "            fake_crypted_reconstruct = crypted_gen(clear_gen(real_crypted_text))\n",
    "            # fake_crypted_reconstruct_loss = torch.linalg.norm((fake_crypted_reconstruct - real_crypted_text)**2, dim=(2,3)).mean() * wandb.config[\"reg\"]\n",
    "            fake_crypted_reconstruct_loss = cross_entropy(fake_crypted_reconstruct.view(-1, wandb.config[\"instance_size\"], wandb.config[\"dictionary_size\"]).transpose(1,2), torch.argmax(real_crypted_text, 3).view(-1,wandb.config[\"instance_size\"])) * wandb.config[\"reg\"]\n",
    "            # fake_crypted_reconstruct_loss.backward()\n",
    "            wandb.log({\"crypted gen reconstruction error 1\" : fake_crypted_reconstruct_loss.item()})\n",
    "\n",
    "            ##################################\n",
    "            ### Second reconstruction loss ###\n",
    "            ##################################\n",
    "\n",
    "            fake_clear_reconstruct =  clear_gen(crypted_gen(real_clear_text))\n",
    "            # fake_clear_reconstruct_loss = torch.linalg.norm((fake_clear_reconstruct - real_clear_text)**2, dim=(2,3)).mean() * wandb.config[\"reg\"]\n",
    "            fake_clear_reconstruct_loss = cross_entropy(fake_clear_reconstruct.view(-1, wandb.config[\"instance_size\"], wandb.config[\"dictionary_size\"]).transpose(1,2), torch.argmax(real_clear_text, 3).view(-1,wandb.config[\"instance_size\"])) * wandb.config[\"reg\"]\n",
    "            wandb.log({\"crypted gen reconstruction error 2\" : fake_clear_reconstruct_loss.item()})\n",
    "            # fake_clear_reconstruct_loss.backward()\n",
    "\n",
    "            ##############################################\n",
    "            ### Compute final error crypted generator ####\n",
    "            ##############################################\n",
    "\n",
    "            batch_crypted_gen_loss = -fake_gen_crypted_loss + fake_crypted_reconstruct_loss + fake_clear_reconstruct_loss\n",
    "            wandb.log({\"loss generator crypted\": batch_crypted_gen_loss.item()})\n",
    "\n",
    "            #############################################\n",
    "            ### Optimize and update crypted generator ###\n",
    "            #############################################\n",
    "\n",
    "            batch_crypted_gen_loss.backward()\n",
    "            optimizer_crypted_gen.step()\n",
    "\n",
    "            #---------------------------------------#\n",
    "            #---------------------------------------#\n",
    "\n",
    "        ##########################################\n",
    "        ### Test performance of our generators ###\n",
    "        ##########################################\n",
    "\n",
    "        crypted_gen.eval()\n",
    "        clear_gen.eval()\n",
    "        crypted_discr.eval()\n",
    "        clear_discr.eval()\n",
    "\n",
    "        with torch.no_grad():\n",
    "\n",
    "            ########################################################\n",
    "            ### Test performance of clear generator (decrypting) ###\n",
    "            ########################################################\n",
    "\n",
    "            test_decrypted_gen = clear_gen(crypted_txt_test.to(wandb.config[\"device\"])).detach().to(\"cpu\").view(-1,wandb.config[\"instance_size\"],wandb.config[\"dictionary_size\"])\n",
    "            test_decrypted_gen_char = torch.argmax(test_decrypted_gen, 2).view(-1)\n",
    "            test_decrypted_accuracy = (test_decrypted==test_decrypted_gen_char).sum()/len(test_decrypted_gen_char)\n",
    "            wandb.log({\"test decrypting accuracy\": test_decrypted_accuracy.to(\"cpu\").item()})\n",
    "\n",
    "            ##########################################################\n",
    "            ### Test performance of crypted generator (encrypting) ###\n",
    "            ##########################################################\n",
    "\n",
    "            test_encrypted_gen = crypted_gen(clear_txt_test.to(wandb.config[\"device\"])).detach().to(\"cpu\").view(-1,wandb.config[\"instance_size\"],wandb.config[\"dictionary_size\"])\n",
    "            test_encrypted_gen_char = torch.argmax(test_encrypted_gen, 2).view(-1)\n",
    "            test_encrypted_accuracy = (test_encrypted==test_encrypted_gen_char).sum()/len(test_encrypted_gen_char)\n",
    "            wandb.log({\"test encrypting accuracy\": test_encrypted_accuracy.to(\"cpu\").item()})\n",
    "\n",
    "\n",
    "\n",
    "\n"
   ],
   "metadata": {
    "collapsed": false,
    "pycharm": {
     "name": "#%%\n"
    }
   }
  },
  {
   "cell_type": "markdown",
   "source": [
    "# Set all the models to evaluation mode to validate performanced of our generators"
   ],
   "metadata": {
    "collapsed": false,
    "pycharm": {
     "name": "#%% md\n"
    }
   }
  },
  {
   "cell_type": "code",
   "execution_count": 8,
   "outputs": [
    {
     "data": {
      "text/plain": "Discriminator(\n  (encoder): Sequential(\n    (0): Linear(in_features=27, out_features=100, bias=True)\n    (1): ReLU()\n    (2): Conv2d(1, 4, kernel_size=(11, 11), stride=(1, 1))\n    (3): BatchNorm2d(4, eps=1e-05, momentum=0.1, affine=True, track_running_stats=True)\n    (4): LeakyReLU(negative_slope=0.01)\n    (5): Conv2d(4, 8, kernel_size=(11, 11), stride=(1, 1))\n    (6): BatchNorm2d(8, eps=1e-05, momentum=0.1, affine=True, track_running_stats=True)\n    (7): LeakyReLU(negative_slope=0.01)\n    (8): Conv2d(8, 12, kernel_size=(11, 11), stride=(1, 1))\n    (9): BatchNorm2d(12, eps=1e-05, momentum=0.1, affine=True, track_running_stats=True)\n    (10): LeakyReLU(negative_slope=0.01)\n    (11): Conv2d(12, 16, kernel_size=(11, 11), stride=(1, 1))\n    (12): BatchNorm2d(16, eps=1e-05, momentum=0.1, affine=True, track_running_stats=True)\n    (13): LeakyReLU(negative_slope=0.01)\n    (14): Conv2d(16, 16, kernel_size=(11, 11), stride=(1, 1))\n    (15): BatchNorm2d(16, eps=1e-05, momentum=0.1, affine=True, track_running_stats=True)\n    (16): LeakyReLU(negative_slope=0.01)\n    (17): Conv2d(16, 16, kernel_size=(11, 11), stride=(1, 1))\n    (18): BatchNorm2d(16, eps=1e-05, momentum=0.1, affine=True, track_running_stats=True)\n    (19): LeakyReLU(negative_slope=0.01)\n    (20): Conv2d(16, 16, kernel_size=(11, 11), stride=(1, 1))\n    (21): BatchNorm2d(16, eps=1e-05, momentum=0.1, affine=True, track_running_stats=True)\n    (22): LeakyReLU(negative_slope=0.01)\n    (23): Conv2d(16, 16, kernel_size=(11, 11), stride=(1, 1))\n    (24): BatchNorm2d(16, eps=1e-05, momentum=0.1, affine=True, track_running_stats=True)\n    (25): ReLU()\n  )\n  (mlp): Sequential(\n    (0): Linear(in_features=6400, out_features=2048, bias=True)\n    (1): BatchNorm1d(1, eps=1e-05, momentum=0.1, affine=True, track_running_stats=True)\n    (2): LeakyReLU(negative_slope=0.01)\n    (3): Linear(in_features=2048, out_features=1024, bias=True)\n    (4): BatchNorm1d(1, eps=1e-05, momentum=0.1, affine=True, track_running_stats=True)\n    (5): LeakyReLU(negative_slope=0.01)\n    (6): Linear(in_features=1024, out_features=256, bias=True)\n    (7): BatchNorm1d(1, eps=1e-05, momentum=0.1, affine=True, track_running_stats=True)\n    (8): LeakyReLU(negative_slope=0.01)\n    (9): Linear(in_features=256, out_features=64, bias=True)\n    (10): BatchNorm1d(1, eps=1e-05, momentum=0.1, affine=True, track_running_stats=True)\n    (11): LeakyReLU(negative_slope=0.01)\n    (12): Linear(in_features=64, out_features=16, bias=True)\n    (13): BatchNorm1d(1, eps=1e-05, momentum=0.1, affine=True, track_running_stats=True)\n    (14): LeakyReLU(negative_slope=0.01)\n    (15): Linear(in_features=16, out_features=1, bias=True)\n  )\n)"
     },
     "execution_count": 8,
     "metadata": {},
     "output_type": "execute_result"
    }
   ],
   "source": [
    "crypted_discr.eval()\n",
    "clear_discr.eval()"
   ],
   "metadata": {
    "collapsed": false,
    "pycharm": {
     "name": "#%%\n"
    }
   }
  },
  {
   "cell_type": "code",
   "execution_count": 9,
   "outputs": [
    {
     "data": {
      "text/plain": "Generator(\n  (encoder): Sequential(\n    (0): Linear(in_features=27, out_features=100, bias=True)\n    (1): ReLU()\n    (2): Conv2d(1, 4, kernel_size=(11, 11), stride=(1, 1))\n    (3): BatchNorm2d(4, eps=1e-05, momentum=0.1, affine=True, track_running_stats=True)\n    (4): LeakyReLU(negative_slope=0.01)\n    (5): Conv2d(4, 8, kernel_size=(11, 11), stride=(1, 1))\n    (6): BatchNorm2d(8, eps=1e-05, momentum=0.1, affine=True, track_running_stats=True)\n    (7): LeakyReLU(negative_slope=0.01)\n    (8): Conv2d(8, 12, kernel_size=(11, 11), stride=(1, 1))\n    (9): BatchNorm2d(12, eps=1e-05, momentum=0.1, affine=True, track_running_stats=True)\n    (10): LeakyReLU(negative_slope=0.01)\n    (11): Conv2d(12, 16, kernel_size=(11, 11), stride=(1, 1))\n    (12): BatchNorm2d(16, eps=1e-05, momentum=0.1, affine=True, track_running_stats=True)\n    (13): LeakyReLU(negative_slope=0.01)\n    (14): Conv2d(16, 16, kernel_size=(11, 11), stride=(1, 1))\n    (15): BatchNorm2d(16, eps=1e-05, momentum=0.1, affine=True, track_running_stats=True)\n    (16): LeakyReLU(negative_slope=0.01)\n    (17): Conv2d(16, 16, kernel_size=(11, 11), stride=(1, 1))\n    (18): BatchNorm2d(16, eps=1e-05, momentum=0.1, affine=True, track_running_stats=True)\n    (19): LeakyReLU(negative_slope=0.01)\n    (20): Conv2d(16, 16, kernel_size=(11, 11), stride=(1, 1))\n    (21): BatchNorm2d(16, eps=1e-05, momentum=0.1, affine=True, track_running_stats=True)\n    (22): LeakyReLU(negative_slope=0.01)\n    (23): Conv2d(16, 16, kernel_size=(11, 11), stride=(1, 1))\n    (24): BatchNorm2d(16, eps=1e-05, momentum=0.1, affine=True, track_running_stats=True)\n    (25): LeakyReLU(negative_slope=0.01)\n  )\n  (decoder): Sequential(\n    (0): ConvTranspose2d(16, 16, kernel_size=(11, 11), stride=(1, 1))\n    (1): BatchNorm2d(16, eps=1e-05, momentum=0.1, affine=True, track_running_stats=True)\n    (2): LeakyReLU(negative_slope=0.01)\n    (3): ConvTranspose2d(16, 16, kernel_size=(11, 11), stride=(1, 1))\n    (4): BatchNorm2d(16, eps=1e-05, momentum=0.1, affine=True, track_running_stats=True)\n    (5): LeakyReLU(negative_slope=0.01)\n    (6): ConvTranspose2d(16, 16, kernel_size=(11, 11), stride=(1, 1))\n    (7): BatchNorm2d(16, eps=1e-05, momentum=0.1, affine=True, track_running_stats=True)\n    (8): LeakyReLU(negative_slope=0.01)\n    (9): ConvTranspose2d(16, 16, kernel_size=(11, 11), stride=(1, 1))\n    (10): BatchNorm2d(16, eps=1e-05, momentum=0.1, affine=True, track_running_stats=True)\n    (11): LeakyReLU(negative_slope=0.01)\n    (12): ConvTranspose2d(16, 12, kernel_size=(11, 11), stride=(1, 1))\n    (13): BatchNorm2d(12, eps=1e-05, momentum=0.1, affine=True, track_running_stats=True)\n    (14): LeakyReLU(negative_slope=0.01)\n    (15): ConvTranspose2d(12, 8, kernel_size=(11, 11), stride=(1, 1))\n    (16): BatchNorm2d(8, eps=1e-05, momentum=0.1, affine=True, track_running_stats=True)\n    (17): LeakyReLU(negative_slope=0.01)\n    (18): ConvTranspose2d(8, 4, kernel_size=(11, 11), stride=(1, 1))\n    (19): LeakyReLU(negative_slope=0.01)\n    (20): BatchNorm2d(4, eps=1e-05, momentum=0.1, affine=True, track_running_stats=True)\n    (21): ConvTranspose2d(4, 1, kernel_size=(11, 11), stride=(1, 1))\n    (22): BatchNorm2d(1, eps=1e-05, momentum=0.1, affine=True, track_running_stats=True)\n    (23): ReLU()\n    (24): Linear(in_features=100, out_features=27, bias=True)\n    (25): ReLU()\n  )\n)"
     },
     "execution_count": 9,
     "metadata": {},
     "output_type": "execute_result"
    }
   ],
   "source": [
    "crypted_gen.eval()\n",
    "clear_gen.eval()"
   ],
   "metadata": {
    "collapsed": false,
    "pycharm": {
     "name": "#%%\n"
    }
   }
  },
  {
   "cell_type": "markdown",
   "source": [
    "# Validate performance of clear generator (decrypting)"
   ],
   "metadata": {
    "collapsed": false,
    "pycharm": {
     "name": "#%% md\n"
    }
   }
  },
  {
   "cell_type": "code",
   "execution_count": null,
   "outputs": [],
   "source": [
    "with torch.no_grad():\n",
    "    clear_gen = clear_gen.to(\"cpu\")\n",
    "    val_crypt_np = crypted_txt_valid.view(-1,wandb.config[\"instance_size\"],wandb.config[\"dictionary_size\"]).detach().numpy()\n",
    "    decrypted_np = ceasar_shift(val_crypt_np, -wandb.config[\"shift\"])\n",
    "    decrypted_gen = clear_gen(crypted_txt_valid).view(-1,wandb.config[\"instance_size\"],wandb.config[\"dictionary_size\"]).detach().numpy()\n",
    "    decrypted_np_char = np.argmax(decrypted_np, axis=2).reshape(-1)\n",
    "    decrypted_gen_char = np.argmax(decrypted_gen, axis=2).reshape(-1)\n",
    "    print((decrypted_np_char == decrypted_gen_char).mean())"
   ],
   "metadata": {
    "collapsed": false,
    "pycharm": {
     "name": "#%%\n"
    }
   }
  },
  {
   "cell_type": "markdown",
   "source": [
    "# Validate performance of crypted generator (encrypting)"
   ],
   "metadata": {
    "collapsed": false,
    "pycharm": {
     "name": "#%% md\n"
    }
   }
  },
  {
   "cell_type": "code",
   "execution_count": null,
   "outputs": [],
   "source": [
    "with torch.no_grad():\n",
    "    crypted_gen = crypted_gen.to(\"cpu\")\n",
    "    val_clear_np = clear_txt_valid.view(-1,wandb.config[\"instance_size\"],wandb.config[\"dictionary_size\"]).detach().numpy()\n",
    "    encrypted_np = ceasar_shift(val_clear_np,wandb.config[\"shift\"])\n",
    "    encrypted_gen = crypted_gen(clear_txt_valid).view(-1,wandb.config[\"instance_size\"],wandb.config[\"dictionary_size\"]).detach().numpy()\n",
    "    encrypted_np_char = np.argmax(encrypted_np, axis=2).reshape(-1)\n",
    "    encrypted_gen_char = np.argmax(encrypted_gen, axis=2).reshape(-1)\n",
    "    print((encrypted_np_char == encrypted_gen_char).mean())"
   ],
   "metadata": {
    "collapsed": false,
    "pycharm": {
     "name": "#%%\n"
    }
   }
  },
  {
   "cell_type": "markdown",
   "source": [
    "# Save models if necessary"
   ],
   "metadata": {
    "collapsed": false,
    "pycharm": {
     "name": "#%% md\n"
    }
   }
  },
  {
   "cell_type": "code",
   "execution_count": null,
   "outputs": [],
   "source": [
    "wandb.finish()\n",
    "\n",
    "# torch.save(crypted_gen.state_dict(), \"crypted_gen\")\n",
    "# torch.save(clear_gen.state_dict(), \"clear_gen\")\n",
    "# torch.save(crypted_discr.state_dict(), \"crypted_disc\")\n",
    "# torch.save(clear_discr.state_dict(), \"clear_discr\")\n"
   ],
   "metadata": {
    "collapsed": false,
    "pycharm": {
     "name": "#%%\n"
    }
   }
  }
 ],
 "metadata": {
  "kernelspec": {
   "display_name": "Python 3",
   "language": "python",
   "name": "python3"
  },
  "language_info": {
   "codemirror_mode": {
    "name": "ipython",
    "version": 2
   },
   "file_extension": ".py",
   "mimetype": "text/x-python",
   "name": "python",
   "nbconvert_exporter": "python",
   "pygments_lexer": "ipython2",
   "version": "2.7.6"
  }
 },
 "nbformat": 4,
 "nbformat_minor": 0
}