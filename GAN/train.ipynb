{
 "cells": [
  {
   "cell_type": "code",
   "execution_count": 1,
   "outputs": [],
   "source": [
    "import os\n",
    "import numpy as np\n",
    "import torch\n",
    "from data import ceasar_shift, convert_data\n",
    "from torch import nn\n",
    "import torch.nn.functional as F\n",
    "from torch.utils.data.sampler import SubsetRandomSampler\n",
    "import torch.optim as optim\n",
    "from torch.utils.data import Dataset, DataLoader\n",
    "from models.modelV2 import GeneratorV2, DiscriminatorV2\n",
    "from models.ResNet import resnet18, resnet34, resnet50, resnet101, resnet152\n",
    "from models.model import Generator, Discriminator\n",
    "from models.cyphergan_models import GeneratorV3, DiscriminatorV3, DiscriminatorV4, GeneratorV4\n",
    "from torch.optim.lr_scheduler import ReduceLROnPlateau, MultiStepLR, ChainedScheduler\n",
    "import matplotlib.pyplot as plt\n",
    "import wandb\n",
    "import datetime\n",
    "from torch.autograd import Variable\n",
    "from torch import autograd\n",
    "from tqdm import tqdm"
   ],
   "metadata": {
    "collapsed": false,
    "pycharm": {
     "name": "#%%\n"
    }
   }
  },
  {
   "cell_type": "markdown",
   "source": [
    "## Init parameters"
   ],
   "metadata": {
    "collapsed": false
   }
  },
  {
   "cell_type": "code",
   "execution_count": 2,
   "outputs": [],
   "source": [
    "os.environ[\"WANDB_SILENT\"] = \"true\"\n",
    "# os.environ[\"WANDB_MODE\"] = \"offline\"\n",
    "torch.manual_seed(1)\n",
    "np.random.seed(1)\n",
    "# init parameters\n",
    "wandb.config = {\n",
    "    \"version\" : 4,\n",
    "    \"batch_size\" : 64,\n",
    "    \"train_split\" : 0.9,\n",
    "    \"test_split\": 0.95,\n",
    "    \"num_epochs\" : 300,\n",
    "    \"lr_gen\" : 0.0001,\n",
    "    \"lr_discr\" : 0.0001,\n",
    "    \"lr_embedding\" : 0.0001,\n",
    "    \"lr_decay\" : 0.5,\n",
    "    \"beta1\" : 0.9,\n",
    "    \"beta2\" : 0.999,\n",
    "    \"device\" :  \"cuda\" if torch.cuda.is_available() else \"cpu\",\n",
    "    \"shift\" : 10,\n",
    "    \"reg\" : 1,\n",
    "    \"instance_size\" : 100,\n",
    "    \"dictionary_size\" : 27,\n",
    "    \"discriminator_step\" : 1,\n",
    "    \"generator_step\" : 1,\n",
    "    \"lambda_term\":10\n",
    "}\n",
    "run = wandb.init(project=\"Research_project_IS\", entity=\"davidvicente\", name=str(datetime.datetime.now()), config=wandb.config)"
   ],
   "metadata": {
    "collapsed": false,
    "pycharm": {
     "name": "#%%\n"
    }
   }
  },
  {
   "cell_type": "markdown",
   "source": [
    "## Load data\n"
   ],
   "metadata": {
    "collapsed": false
   }
  },
  {
   "cell_type": "code",
   "execution_count": 3,
   "outputs": [
    {
     "name": "stdout",
     "output_type": "stream",
     "text": [
      "(24206, 100, 27) int32\n",
      "(24206, 100, 27) int32\n"
     ]
    }
   ],
   "source": [
    "## Create data\n",
    "np_data = convert_data(fixed_len=wandb.config[\"instance_size\"])\n",
    "np_crypted_data = ceasar_shift(np_data, wandb.config[\"shift\"])\n",
    "\n",
    "tensor_clear_text = torch.from_numpy(np_data)\n",
    "tensor_crypted_data = torch.from_numpy(np_crypted_data)\n",
    "\n",
    "tensor_clear_text = tensor_clear_text.float().view(-1, 1, wandb.config[\"instance_size\"], wandb.config[\"dictionary_size\"])\n",
    "tensor_crypted_data = tensor_crypted_data.float().view(-1, 1, wandb.config[\"instance_size\"], wandb.config[\"dictionary_size\"])"
   ],
   "metadata": {
    "collapsed": false,
    "pycharm": {
     "name": "#%%\n"
    }
   }
  },
  {
   "cell_type": "markdown",
   "source": [
    "## Shuffle Data, and split it into train/test/validation splits (60/20/20)"
   ],
   "metadata": {
    "collapsed": false
   }
  },
  {
   "cell_type": "code",
   "execution_count": 4,
   "outputs": [],
   "source": [
    "num_train = len(tensor_clear_text)\n",
    "indices_clear = list(range(num_train))\n",
    "indices_crypted = list(range(num_train))\n",
    "np.random.shuffle(indices_clear)\n",
    "np.random.shuffle(indices_crypted)\n",
    "train_split = int(np.floor(wandb.config[\"train_split\"] * num_train))\n",
    "test_split = int(np.floor(wandb.config[\"test_split\"] * num_train))\n",
    "\n",
    "\n",
    "clear_txt_train = tensor_clear_text[indices_clear[:train_split]]\n",
    "clear_txt_test = tensor_clear_text[indices_clear[train_split:test_split]]\n",
    "clear_txt_valid = tensor_clear_text[indices_clear[test_split:]]\n",
    "\n",
    "crypted_txt_train = tensor_crypted_data[indices_crypted[:train_split]]\n",
    "crypted_txt_test = tensor_crypted_data[indices_crypted[train_split:test_split]]\n",
    "crypted_txt_valid = tensor_crypted_data[indices_crypted[test_split:]]"
   ],
   "metadata": {
    "collapsed": false,
    "pycharm": {
     "name": "#%%\n"
    }
   }
  },
  {
   "cell_type": "markdown",
   "source": [
    "## Create data loaders"
   ],
   "metadata": {
    "collapsed": false
   }
  },
  {
   "cell_type": "code",
   "execution_count": 5,
   "outputs": [],
   "source": [
    "train_clear_loader = DataLoader(clear_txt_train, batch_size=wandb.config[\"batch_size\"])\n",
    "train_crypted_loader = DataLoader(crypted_txt_train, batch_size=wandb.config[\"batch_size\"])"
   ],
   "metadata": {
    "collapsed": false,
    "pycharm": {
     "name": "#%%\n"
    }
   }
  },
  {
   "cell_type": "markdown",
   "source": [
    "## Init generators and discriminators"
   ],
   "metadata": {
    "collapsed": false
   }
  },
  {
   "cell_type": "code",
   "execution_count": 6,
   "outputs": [
    {
     "data": {
      "text/plain": "[<wandb.wandb_torch.TorchGraph at 0x28fa2eefb50>]"
     },
     "execution_count": 6,
     "metadata": {},
     "output_type": "execute_result"
    }
   ],
   "source": [
    "if wandb.config[\"version\"] ==  1 :\n",
    "    crypted_gen = Generator(wandb.config[\"instance_size\"], wandb.config[\"dictionary_size\"]).to(wandb.config[\"device\"]) # converts clear to crypted\n",
    "    clear_gen = Generator(wandb.config[\"instance_size\"], wandb.config[\"dictionary_size\"]).to(wandb.config[\"device\"]) # converts crypted to clear\n",
    "    crypted_discr = Discriminator(wandb.config[\"instance_size\"], wandb.config[\"dictionary_size\"]).to(wandb.config[\"device\"])\n",
    "    clear_discr = Discriminator(wandb.config[\"instance_size\"], wandb.config[\"dictionary_size\"]).to(wandb.config[\"device\"])\n",
    "elif wandb.config[\"version\"] ==  2:\n",
    "    crypted_gen = GeneratorV2(wandb.config[\"instance_size\"], wandb.config[\"dictionary_size\"]).to(wandb.config[\"device\"]) # converts clear to crypted\n",
    "    clear_gen = GeneratorV2(wandb.config[\"instance_size\"], wandb.config[\"dictionary_size\"]).to(wandb.config[\"device\"]) # converts crypted to clear\n",
    "    crypted_discr = DiscriminatorV2(wandb.config[\"instance_size\"], wandb.config[\"dictionary_size\"]).to(wandb.config[\"device\"])\n",
    "    clear_discr = DiscriminatorV2(wandb.config[\"instance_size\"], wandb.config[\"dictionary_size\"]).to(wandb.config[\"device\"])\n",
    "elif wandb.config[\"version\"] ==  3:\n",
    "    crypted_gen = GeneratorV3(wandb.config[\"instance_size\"], wandb.config[\"dictionary_size\"]).to(wandb.config[\"device\"]) # converts clear to crypted\n",
    "    clear_gen = GeneratorV3(wandb.config[\"instance_size\"], wandb.config[\"dictionary_size\"]).to(wandb.config[\"device\"])# converts crypted to clear\n",
    "    crypted_discr = DiscriminatorV3(wandb.config[\"instance_size\"], wandb.config[\"dictionary_size\"]).to(wandb.config[\"device\"])\n",
    "    clear_discr = DiscriminatorV3(wandb.config[\"instance_size\"], wandb.config[\"dictionary_size\"]).to(wandb.config[\"device\"])\n",
    "elif wandb.config[\"version\"] ==  4:\n",
    "    crypted_gen = GeneratorV4(wandb.config[\"instance_size\"], wandb.config[\"dictionary_size\"]).to(wandb.config[\"device\"]) # converts clear to crypted\n",
    "    clear_gen = GeneratorV4(wandb.config[\"instance_size\"], wandb.config[\"dictionary_size\"]).to(wandb.config[\"device\"])# converts crypted to clear\n",
    "    crypted_discr = DiscriminatorV4(wandb.config[\"instance_size\"], wandb.config[\"dictionary_size\"]).to(wandb.config[\"device\"])\n",
    "    clear_discr = DiscriminatorV4(wandb.config[\"instance_size\"], wandb.config[\"dictionary_size\"]).to(wandb.config[\"device\"])\n",
    "else :\n",
    "    crypted_gen = resnet101(1,wandb.config[\"instance_size\"], wandb.config[\"dictionary_size\"]).to(wandb.config[\"device\"]) # converts clear to crypted\n",
    "    clear_gen = resnet101(1,wandb.config[\"instance_size\"], wandb.config[\"dictionary_size\"]).to(wandb.config[\"device\"]) # converts crypted to clear\n",
    "    crypted_discr = resnet34(1,1).to(wandb.config[\"device\"])\n",
    "    clear_discr = resnet34(1,1).to(wandb.config[\"device\"])\n",
    "\n",
    "embedding = nn.Linear( wandb.config[\"dictionary_size\"], wandb.config[\"dictionary_size\"]).to(wandb.config[\"device\"])\n",
    "\n",
    "wandb.watch(crypted_gen, log=\"all\", log_freq=1000, log_graph=True, idx=1)\n",
    "wandb.watch(clear_gen, log=\"all\", log_freq=1000, log_graph=True, idx=2)\n",
    "wandb.watch(crypted_discr, log=\"all\", log_freq=1000, log_graph=True, idx=3)\n",
    "wandb.watch(clear_discr, log=\"all\", log_freq=1000, log_graph=True, idx=4)\n",
    "wandb.watch(embedding,log=\"all\", log_freq=1000, log_graph=True, idx=5)"
   ],
   "metadata": {
    "collapsed": false,
    "pycharm": {
     "name": "#%%\n"
    }
   }
  },
  {
   "cell_type": "markdown",
   "source": [
    "## Init Optimizers and losses"
   ],
   "metadata": {
    "collapsed": false
   }
  },
  {
   "cell_type": "code",
   "execution_count": 7,
   "outputs": [],
   "source": [
    "# Setup Adam optimizers for both generators\n",
    "optimizer_crypted_gen = optim.Adam(crypted_gen.parameters(), lr=wandb.config[\"lr_gen\"], betas=(wandb.config[\"beta1\"], wandb.config[\"beta2\"]))\n",
    "optimizer_clear_gen = optim.Adam(clear_gen.parameters(), lr=wandb.config[\"lr_gen\"], betas=(wandb.config[\"beta1\"], wandb.config[\"beta2\"]))\n",
    "\n",
    "# Setup Adam optimizers for both discriminators\n",
    "optimizer_crypted_discr= optim.Adam(crypted_discr.parameters(), lr=wandb.config[\"lr_discr\"], betas=(wandb.config[\"beta1\"], wandb.config[\"beta2\"]))\n",
    "optimizer_clear_discr = optim.Adam(clear_discr.parameters(), lr=wandb.config[\"lr_discr\"], betas=(wandb.config[\"beta1\"], wandb.config[\"beta2\"]))\n",
    "\n",
    "optimizer_embedding = optim.Adam(embedding.parameters(), lr=wandb.config[\"lr_embedding\"], betas=(wandb.config[\"beta1\"], wandb.config[\"beta2\"]))\n",
    "\n",
    "milestones = [30,60, 90, 120, 150, 180, 210, 240]\n",
    "decay = wandb.config[\"lr_decay\"]\n",
    "scheduler_crypted_gen = MultiStepLR(optimizer_crypted_gen, milestones=milestones, gamma=decay)\n",
    "scheduler_clear_gen = MultiStepLR(optimizer_clear_gen, milestones=milestones, gamma=decay)\n",
    "scheduler_crypted_discr = MultiStepLR(optimizer_crypted_discr, milestones=milestones, gamma=decay)\n",
    "scheduler_clear_discr = MultiStepLR(optimizer_clear_discr, milestones=milestones, gamma=decay)\n",
    "scheduler_embedding = MultiStepLR(optimizer_embedding, milestones=milestones, gamma=decay)\n",
    "\n",
    "# Create Losses\n",
    "BCE = nn.BCELoss()\n",
    "cross_entropy = nn.CrossEntropyLoss()\n",
    "mse = nn.MSELoss()"
   ],
   "metadata": {
    "collapsed": false,
    "pycharm": {
     "name": "#%%\n"
    }
   }
  },
  {
   "cell_type": "code",
   "execution_count": 8,
   "outputs": [],
   "source": [
    "# checkpoint = torch.load(\"checkpoint2.pt\", map_location=\"cuda\")\n",
    "#\n",
    "# crypted_gen.load_state_dict(checkpoint[\"crypted_gen_sate_dict\"])\n",
    "# clear_gen.load_state_dict(checkpoint[\"clear_gen_sate_dict\"])\n",
    "# crypted_discr.load_state_dict(checkpoint[\"crypted_discr_sate_dict\"])\n",
    "# clear_discr.load_state_dict(checkpoint[\"clear_discr_sate_dict\"])\n",
    "# embedding.load_state_dict(checkpoint[\"embedding_state_dict\"])\n",
    "#\n",
    "# optimizer_crypted_gen.load_state_dict(checkpoint[\"crypted_gen_optimizer\"])\n",
    "# optimizer_clear_gen.load_state_dict(checkpoint[\"clear_gen_optimizer\"])\n",
    "# optimizer_crypted_discr.load_state_dict(checkpoint[\"crypted_discr_optimizer\"])\n",
    "# optimizer_clear_discr.load_state_dict(checkpoint[\"clear_discr_optimizer\"])\n",
    "# optimizer_embedding.load_state_dict(checkpoint[\"embedding_optimizer\"])\n",
    "# #\n",
    "# # epoch_start = checkpoint[\"epoch\"]\n",
    "#\n",
    "# del checkpoint"
   ],
   "metadata": {
    "collapsed": false,
    "pycharm": {
     "name": "#%%\n"
    }
   }
  },
  {
   "cell_type": "markdown",
   "source": [
    "## Precompute test ground truth"
   ],
   "metadata": {
    "collapsed": false
   }
  },
  {
   "cell_type": "code",
   "execution_count": 9,
   "outputs": [
    {
     "name": "stdout",
     "output_type": "stream",
     "text": [
      "(1210, 100, 27) int32\n",
      "(1210, 100, 27) int32\n"
     ]
    }
   ],
   "source": [
    "with torch.no_grad():\n",
    "    # Create the True encryption of each test instance\n",
    "    test_crypt_np = crypted_txt_test.view(-1,wandb.config[\"instance_size\"],wandb.config[\"dictionary_size\"]).detach().numpy()\n",
    "    test_decrypted_np = ceasar_shift(test_crypt_np, -wandb.config[\"shift\"])\n",
    "    test_decrypted_np_char = np.argmax(test_decrypted_np, axis=2)\n",
    "    test_decrypted = torch.from_numpy(test_decrypted_np_char)\n",
    "    crypted_txt_test = crypted_txt_test.float()\n",
    "\n",
    "    # Create the True decryption of each test instance\n",
    "    test_clear_np = clear_txt_test.view(-1,wandb.config[\"instance_size\"],wandb.config[\"dictionary_size\"]).detach().numpy()\n",
    "    test_encrypted_np = ceasar_shift(test_clear_np, wandb.config[\"shift\"])\n",
    "    test_encrypted_np_char = np.argmax(test_encrypted_np, axis=2)\n",
    "    test_encrypted = torch.from_numpy(test_encrypted_np_char)\n",
    "    clear_txt_test = clear_txt_test.float()"
   ],
   "metadata": {
    "collapsed": false,
    "pycharm": {
     "name": "#%%\n"
    }
   }
  },
  {
   "cell_type": "markdown",
   "source": [
    "# Gradient penalty for discriminators"
   ],
   "metadata": {
    "collapsed": false
   }
  },
  {
   "cell_type": "code",
   "execution_count": 10,
   "outputs": [],
   "source": [
    "def compute_gradient_penalty(discriminator,embedding, real_data, fake_data):\n",
    "    eta = torch.FloatTensor(real_data.size(0),1,1,1).uniform_(0,1).to(wandb.config[\"device\"])\n",
    "    eta = eta.expand(real_data.size(0), real_data.size(1), real_data.size(2), real_data.size(3))\n",
    "    interpolated = eta * real_data + ((1 - eta) * fake_data).to(wandb.config[\"device\"])\n",
    "    interpolated = Variable(interpolated, requires_grad=True)\n",
    "    prob_interpolated = discriminator(embedding(interpolated))\n",
    "    gradients = autograd.grad(outputs=prob_interpolated, inputs=interpolated,\n",
    "                               grad_outputs=torch.ones(\n",
    "                                   prob_interpolated.size()).to(wandb.config[\"device\"]),\n",
    "                               create_graph=True, retain_graph=True)[0]\n",
    "    grad_penalty = ((gradients.norm(2, dim=1) - 1) ** 2).mean() * wandb.config[\"lambda_term\"]\n",
    "    return grad_penalty"
   ],
   "metadata": {
    "collapsed": false,
    "pycharm": {
     "name": "#%%\n"
    }
   }
  },
  {
   "cell_type": "markdown",
   "source": [
    "# Train loop"
   ],
   "metadata": {
    "collapsed": false
   }
  },
  {
   "cell_type": "code",
   "execution_count": 11,
   "outputs": [
    {
     "ename": "KeyboardInterrupt",
     "evalue": "",
     "output_type": "error",
     "traceback": [
      "\u001B[1;31m---------------------------------------------------------------------------\u001B[0m",
      "\u001B[1;31mKeyboardInterrupt\u001B[0m                         Traceback (most recent call last)",
      "\u001B[1;32m~\\AppData\\Local\\Temp/ipykernel_12048/3709815607.py\u001B[0m in \u001B[0;36m<module>\u001B[1;34m\u001B[0m\n\u001B[0;32m    220\u001B[0m             \u001B[0mfake_gen_crypted_loss\u001B[0m \u001B[1;33m=\u001B[0m \u001B[1;33m-\u001B[0m\u001B[0mtorch\u001B[0m\u001B[1;33m.\u001B[0m\u001B[0mmean\u001B[0m\u001B[1;33m(\u001B[0m\u001B[0mgen_fake_crypted\u001B[0m\u001B[1;33m)\u001B[0m\u001B[1;33m\u001B[0m\u001B[1;33m\u001B[0m\u001B[0m\n\u001B[0;32m    221\u001B[0m             \u001B[0mwandb\u001B[0m\u001B[1;33m.\u001B[0m\u001B[0mlog\u001B[0m\u001B[1;33m(\u001B[0m\u001B[1;33m{\u001B[0m\u001B[1;34m\"crypted gen error\"\u001B[0m \u001B[1;33m:\u001B[0m \u001B[1;33m-\u001B[0m \u001B[0mgen_fake_crypted\u001B[0m\u001B[1;33m.\u001B[0m\u001B[0mmean\u001B[0m\u001B[1;33m(\u001B[0m\u001B[1;33m)\u001B[0m\u001B[1;33m.\u001B[0m\u001B[0mitem\u001B[0m\u001B[1;33m(\u001B[0m\u001B[1;33m)\u001B[0m\u001B[1;33m}\u001B[0m\u001B[1;33m,\u001B[0m \u001B[0mcommit\u001B[0m\u001B[1;33m=\u001B[0m\u001B[1;32mFalse\u001B[0m\u001B[1;33m)\u001B[0m\u001B[1;33m\u001B[0m\u001B[1;33m\u001B[0m\u001B[0m\n\u001B[1;32m--> 222\u001B[1;33m             \u001B[0mfake_gen_crypted_loss\u001B[0m\u001B[1;33m.\u001B[0m\u001B[0mbackward\u001B[0m\u001B[1;33m(\u001B[0m\u001B[1;33m)\u001B[0m\u001B[1;33m\u001B[0m\u001B[1;33m\u001B[0m\u001B[0m\n\u001B[0m\u001B[0;32m    223\u001B[0m \u001B[1;33m\u001B[0m\u001B[0m\n\u001B[0;32m    224\u001B[0m             \u001B[1;31m##############################################\u001B[0m\u001B[1;33m\u001B[0m\u001B[1;33m\u001B[0m\u001B[1;33m\u001B[0m\u001B[0m\n",
      "\u001B[1;32mc:\\users\\ansad\\documents\\masteris\\researchprojectmasteris\\gan\\venv\\lib\\site-packages\\torch\\_tensor.py\u001B[0m in \u001B[0;36mbackward\u001B[1;34m(self, gradient, retain_graph, create_graph, inputs)\u001B[0m\n\u001B[0;32m    305\u001B[0m                 \u001B[0mcreate_graph\u001B[0m\u001B[1;33m=\u001B[0m\u001B[0mcreate_graph\u001B[0m\u001B[1;33m,\u001B[0m\u001B[1;33m\u001B[0m\u001B[1;33m\u001B[0m\u001B[0m\n\u001B[0;32m    306\u001B[0m                 inputs=inputs)\n\u001B[1;32m--> 307\u001B[1;33m         \u001B[0mtorch\u001B[0m\u001B[1;33m.\u001B[0m\u001B[0mautograd\u001B[0m\u001B[1;33m.\u001B[0m\u001B[0mbackward\u001B[0m\u001B[1;33m(\u001B[0m\u001B[0mself\u001B[0m\u001B[1;33m,\u001B[0m \u001B[0mgradient\u001B[0m\u001B[1;33m,\u001B[0m \u001B[0mretain_graph\u001B[0m\u001B[1;33m,\u001B[0m \u001B[0mcreate_graph\u001B[0m\u001B[1;33m,\u001B[0m \u001B[0minputs\u001B[0m\u001B[1;33m=\u001B[0m\u001B[0minputs\u001B[0m\u001B[1;33m)\u001B[0m\u001B[1;33m\u001B[0m\u001B[1;33m\u001B[0m\u001B[0m\n\u001B[0m\u001B[0;32m    308\u001B[0m \u001B[1;33m\u001B[0m\u001B[0m\n\u001B[0;32m    309\u001B[0m     \u001B[1;32mdef\u001B[0m \u001B[0mregister_hook\u001B[0m\u001B[1;33m(\u001B[0m\u001B[0mself\u001B[0m\u001B[1;33m,\u001B[0m \u001B[0mhook\u001B[0m\u001B[1;33m)\u001B[0m\u001B[1;33m:\u001B[0m\u001B[1;33m\u001B[0m\u001B[1;33m\u001B[0m\u001B[0m\n",
      "\u001B[1;32mc:\\users\\ansad\\documents\\masteris\\researchprojectmasteris\\gan\\venv\\lib\\site-packages\\torch\\autograd\\__init__.py\u001B[0m in \u001B[0;36mbackward\u001B[1;34m(tensors, grad_tensors, retain_graph, create_graph, grad_variables, inputs)\u001B[0m\n\u001B[0;32m    152\u001B[0m         \u001B[0mretain_graph\u001B[0m \u001B[1;33m=\u001B[0m \u001B[0mcreate_graph\u001B[0m\u001B[1;33m\u001B[0m\u001B[1;33m\u001B[0m\u001B[0m\n\u001B[0;32m    153\u001B[0m \u001B[1;33m\u001B[0m\u001B[0m\n\u001B[1;32m--> 154\u001B[1;33m     Variable._execution_engine.run_backward(\n\u001B[0m\u001B[0;32m    155\u001B[0m         \u001B[0mtensors\u001B[0m\u001B[1;33m,\u001B[0m \u001B[0mgrad_tensors_\u001B[0m\u001B[1;33m,\u001B[0m \u001B[0mretain_graph\u001B[0m\u001B[1;33m,\u001B[0m \u001B[0mcreate_graph\u001B[0m\u001B[1;33m,\u001B[0m \u001B[0minputs\u001B[0m\u001B[1;33m,\u001B[0m\u001B[1;33m\u001B[0m\u001B[1;33m\u001B[0m\u001B[0m\n\u001B[0;32m    156\u001B[0m         allow_unreachable=True, accumulate_grad=True)  # allow_unreachable flag\n",
      "\u001B[1;31mKeyboardInterrupt\u001B[0m: "
     ]
    }
   ],
   "source": [
    "torch.autograd.set_detect_anomaly(True)\n",
    "for epoch in range(wandb.config[\"num_epochs\"]):\n",
    "\n",
    "    dataloader_iterator = iter(train_crypted_loader)\n",
    "\n",
    "    for i, clear in enumerate(train_clear_loader):\n",
    "        wandb.log({\"epoch\": epoch}, commit=False)\n",
    "\n",
    "        crypted_gen.train()\n",
    "        clear_gen.train()\n",
    "        crypted_discr.train()\n",
    "        clear_discr.train()\n",
    "        embedding.train()\n",
    "\n",
    "        try:\n",
    "            crypted = next(dataloader_iterator)\n",
    "        except StopIteration:\n",
    "            dataloader_iterator = iter(train_clear_loader)\n",
    "            crypted = next(dataloader_iterator)\n",
    "\n",
    "        real_clear_text = clear.to(wandb.config[\"device\"])\n",
    "        real_crypted_text = crypted.to(wandb.config[\"device\"])\n",
    "\n",
    "        optimizer_embedding.zero_grad()\n",
    "\n",
    "        if i%wandb.config[\"discriminator_step\"] == 0:\n",
    "\n",
    "            ###############################\n",
    "            ### precompute clear fakes ####\n",
    "            ###############################\n",
    "\n",
    "            fake_clear_text = clear_gen(embedding(real_crypted_text), logits=False)\n",
    "\n",
    "            ############################################\n",
    "            ### empty clear discriminator gradients ####\n",
    "            ############################################\n",
    "\n",
    "            clear_discr.zero_grad()\n",
    "\n",
    "            ###############################################\n",
    "            ### train clear discriminator on true data ####\n",
    "            ###############################################\n",
    "\n",
    "            pred_real_clear = clear_discr(embedding(real_clear_text))\n",
    "            # true_labels = torch.full((len(real_clear_text),1), 1, dtype=torch.float, device=wandb.config[\"device\"])\n",
    "            # batch_clear_d_true_loss = BCE(pred_real_clear, true_labels)\n",
    "            batch_clear_d_true_loss = -torch.mean(pred_real_clear)\n",
    "            wandb.log({\"clear discr real error\" : -pred_real_clear.mean().item()}, commit=False)\n",
    "            # batch_clear_d_true_loss.backward()\n",
    "\n",
    "            ###############################################\n",
    "            ### train clear discriminator on fake data ####\n",
    "            ###############################################\n",
    "\n",
    "            pred_fake_clear  = clear_discr(embedding(fake_clear_text.detach()))\n",
    "            # fake_labels = torch.full((len(real_clear_text),1), 0, dtype=torch.float, device=wandb.config[\"device\"])\n",
    "            # batch_clear_d_fake_loss = BCE(pred_fake_clear, fake_labels)\n",
    "            batch_clear_d_fake_loss = torch.mean(pred_fake_clear)\n",
    "            wandb.log({\"clear discr fake error\": pred_fake_clear.mean().item()} , commit=False)\n",
    "            # batch_clear_d_fake_loss.backward()\n",
    "\n",
    "            #########################################################\n",
    "            ### Compute Gradient penalty for clear discriminator ####\n",
    "            #########################################################\n",
    "\n",
    "            gradient_penalty = compute_gradient_penalty(clear_discr, embedding, real_clear_text, fake_clear_text)\n",
    "            wandb.log({\"clear discr gradient penalty\": gradient_penalty.item()}, commit=False)\n",
    "            # gradient_penalty.backward()\n",
    "\n",
    "            ################################################\n",
    "            ### Compute final error clear discriminator ####\n",
    "            ################################################\n",
    "\n",
    "            error_d_clear = batch_clear_d_true_loss  + batch_clear_d_fake_loss  + gradient_penalty\n",
    "            wandb.log({\"loss discriminator clear\": error_d_clear.item()}, commit=False)\n",
    "\n",
    "            ################################################\n",
    "            ### Optimize and update clear discriminator ####\n",
    "            ################################################\n",
    "\n",
    "            error_d_clear.backward()\n",
    "            optimizer_clear_discr.step()\n",
    "\n",
    "            #---------------------------------------#\n",
    "            #---------------------------------------#\n",
    "\n",
    "            #################################\n",
    "            ### precompute crypted fakes ####\n",
    "            #################################\n",
    "\n",
    "            fake_crypted_text =  crypted_gen(embedding(real_clear_text), logits=False)\n",
    "\n",
    "            ##############################################\n",
    "            ### empty crypted discriminator gradients ####\n",
    "            ##############################################\n",
    "\n",
    "            crypted_discr.zero_grad()\n",
    "\n",
    "            #################################################\n",
    "            ### train crypted discriminator on true data ####\n",
    "            #################################################\n",
    "\n",
    "            pred_real_crypted = crypted_discr(embedding(real_crypted_text))\n",
    "            # true_labels = torch.full((len(real_crypted_text),1), 1, dtype=torch.float, device=wandb.config[\"device\"])\n",
    "            # batch_crypted_d_true_loss = BCE(pred_real_crypted, true_labels)\n",
    "            batch_crypted_d_true_loss = -torch.mean(pred_real_crypted)\n",
    "            wandb.log({\"crypted discr real error\": -pred_real_crypted.mean().item()}, commit=False)\n",
    "            # batch_crypted_d_true_loss.backward()\n",
    "\n",
    "            #################################################\n",
    "            ### train crypted discriminator on fake data ####\n",
    "            #################################################\n",
    "\n",
    "            pred_fake_crypted  = crypted_discr(embedding(fake_crypted_text.detach()))\n",
    "            # fake_labels = torch.full((len(fake_crypted_text),1), 0, dtype=torch.float, device=wandb.config[\"device\"])\n",
    "            # batch_crypted_d_fake_loss = BCE(pred_fake_crypted, fake_labels)\n",
    "            batch_crypted_d_fake_loss = torch.mean(pred_fake_crypted)\n",
    "            wandb.log({\"crypted discr fake error\": pred_fake_crypted.mean().item()}, commit=False)\n",
    "            # batch_crypted_d_fake_loss.backward()\n",
    "\n",
    "            ###########################################################\n",
    "            ### Compute Gradient penalty for crypted discriminator ####\n",
    "            ###########################################################\n",
    "\n",
    "            gradient_penalty = compute_gradient_penalty(crypted_discr, embedding, real_crypted_text, fake_crypted_text)\n",
    "            wandb.log({\"crypted discr gradient penalty\": gradient_penalty.item()}, commit=False)\n",
    "            # gradient_penalty.backward()\n",
    "\n",
    "            ##################################################\n",
    "            ### Compute final error crypted discriminator ####\n",
    "            ##################################################\n",
    "\n",
    "            error_d_crypted = batch_crypted_d_true_loss + batch_crypted_d_fake_loss + gradient_penalty\n",
    "            wandb.log({\"loss discriminator crypted\": error_d_crypted.item()}, commit=False)\n",
    "\n",
    "            ##################################################\n",
    "            ### Optimize and update crypted discriminator ####\n",
    "            ##################################################\n",
    "\n",
    "            error_d_crypted.backward()\n",
    "            optimizer_crypted_discr.step()\n",
    "\n",
    "            #---------------------------------------#\n",
    "            #---------------------------------------#\n",
    "\n",
    "        if i%wandb.config[\"generator_step\"] == 0:\n",
    "\n",
    "            ###################################\n",
    "            ### empty generators gradients ####\n",
    "            ###################################\n",
    "\n",
    "            clear_gen.zero_grad()\n",
    "            crypted_gen.zero_grad()\n",
    "\n",
    "            ##################################\n",
    "            ### First reconstruction loss ####\n",
    "            ##################################\n",
    "\n",
    "            fake_crypted_reconstruct = crypted_gen(embedding(clear_gen(embedding(real_crypted_text), logits=False)), logits=True)\n",
    "            # fake_crypted_reconstruct_loss = torch.sum(torch.square(fake_crypted_reconstruct - real_crypted_text), dim=(2,3)).mean() * wandb.config[\"reg\"]\n",
    "            # fake_crypted_reconstruct_loss = torch.linalg.norm((fake_crypted_reconstruct - real_crypted_text)**2, dim=(2,3)).mean() * wandb.config[\"reg\"]\n",
    "            fake_crypted_reconstruct_loss = cross_entropy(fake_crypted_reconstruct.view(-1, wandb.config[\"instance_size\"], wandb.config[\"dictionary_size\"]).transpose(1,2), torch.argmax(real_crypted_text, 3).view(-1,wandb.config[\"instance_size\"])) * wandb.config[\"reg\"]\n",
    "            # fake_crypted_reconstruct_loss.backward()\n",
    "            wandb.log({\"crypted text reconstruction\" : fake_crypted_reconstruct_loss.item()}, commit=False)\n",
    "\n",
    "            ##################################\n",
    "            ### Second reconstruction loss ###\n",
    "            ##################################\n",
    "\n",
    "            fake_clear_reconstruct =  clear_gen(embedding(crypted_gen(embedding(real_clear_text), logits=False)), logits=True)\n",
    "            # fake_clear_reconstruct_loss = torch.sum(torch.square(fake_clear_reconstruct - real_clear_text), dim=(2,3)).mean() * wandb.config[\"reg\"]\n",
    "            # fake_clear_reconstruct_loss = torch.linalg.norm((fake_clear_reconstruct - real_clear_text)**2, dim=(2,3)).mean() * wandb.config[\"reg\"]\n",
    "            fake_clear_reconstruct_loss = cross_entropy(fake_clear_reconstruct.view(-1, wandb.config[\"instance_size\"], wandb.config[\"dictionary_size\"]).transpose(1,2), torch.argmax(real_clear_text, 3).view(-1,wandb.config[\"instance_size\"])) * wandb.config[\"reg\"]\n",
    "            # fake_clear_reconstruct_loss.backward()\n",
    "            wandb.log({\"clear text reconstruction\" : fake_clear_reconstruct_loss.item()}, commit=False)\n",
    "\n",
    "            reconstruction_loss = fake_clear_reconstruct_loss + fake_crypted_reconstruct_loss\n",
    "            reconstruction_loss.backward()\n",
    "            optimizer_embedding.step()\n",
    "            #################################################\n",
    "            ### train clear generator with discriminator ####\n",
    "            #################################################\n",
    "\n",
    "            fake_clear_text =  clear_gen(embedding(real_crypted_text), logits=False)\n",
    "            gen_fake_clear = clear_discr(embedding(fake_clear_text))\n",
    "            # gen_labels = torch.full((len(fake_clear_text),1), 1, dtype=torch.float, device=wandb.config[\"device\"])\n",
    "            # fake_gen_clear_loss = BCE(gen_fake_clear, gen_labels)\n",
    "            fake_gen_clear_loss = -torch.mean(gen_fake_clear)\n",
    "            wandb.log({\"clear gen error\" : -gen_fake_clear.mean().item()}, commit=False)\n",
    "            fake_gen_clear_loss.backward()\n",
    "\n",
    "\n",
    "\n",
    "            ############################################\n",
    "            ### Compute final error clear generator ####\n",
    "            ############################################\n",
    "\n",
    "            batch_clear_gen_loss = fake_gen_clear_loss + reconstruction_loss\n",
    "            wandb.log({\"loss generator clear\": batch_clear_gen_loss.item()}, commit=False)\n",
    "\n",
    "            ############################################\n",
    "            ### Optimize and update clear generator ####\n",
    "            ############################################\n",
    "\n",
    "            # batch_clear_gen_loss.backward()\n",
    "            optimizer_clear_gen.step()\n",
    "\n",
    "            #---------------------------------------#\n",
    "            #---------------------------------------#\n",
    "\n",
    "\n",
    "            ###################################################\n",
    "            ### train crypted generator with discriminator ####\n",
    "            ###################################################\n",
    "\n",
    "            fake_crypted_text = crypted_gen(embedding(real_clear_text), logits=False)\n",
    "            gen_fake_crypted = crypted_discr(embedding(fake_crypted_text))\n",
    "            # gen_labels = torch.full((len(fake_crypted_text),1), 1, dtype=torch.float, device=wandb.config[\"device\"])\n",
    "            # fake_gen_crypted_loss = BCE(gen_fake_crypted, gen_labels)\n",
    "            fake_gen_crypted_loss = -torch.mean(gen_fake_crypted)\n",
    "            wandb.log({\"crypted gen error\" : - gen_fake_crypted.mean().item()}, commit=False)\n",
    "            fake_gen_crypted_loss.backward()\n",
    "\n",
    "            ##############################################\n",
    "            ### Compute final error crypted generator ####\n",
    "            ##############################################\n",
    "\n",
    "            batch_crypted_gen_loss = fake_gen_crypted_loss + reconstruction_loss\n",
    "            wandb.log({\"loss generator crypted\": batch_crypted_gen_loss.item()}, commit=False)\n",
    "\n",
    "            #############################################\n",
    "            ### Optimize and update crypted generator ###\n",
    "            #############################################\n",
    "\n",
    "            # batch_crypted_gen_loss.backward()\n",
    "            optimizer_crypted_gen.step()\n",
    "\n",
    "            #---------------------------------------#\n",
    "            #---------------------------------------#\n",
    "\n",
    "            #########################################\n",
    "            ### Compute final error of embedding ####\n",
    "            #########################################\n",
    "            embedding_loss = error_d_crypted + error_d_clear + reconstruction_loss\n",
    "            wandb.log({\"loss embedding\": embedding_loss.item()}, commit=False)\n",
    "\n",
    "\n",
    "            #---------------------------------------#\n",
    "            #---------------------------------------#\n",
    "\n",
    "        ##########################################\n",
    "        ### Test performance of our generators ###\n",
    "        ##########################################\n",
    "        crypted_gen.eval()\n",
    "        clear_gen.eval()\n",
    "        crypted_discr.eval()\n",
    "        clear_discr.eval()\n",
    "        embedding.eval()\n",
    "\n",
    "        with torch.no_grad():\n",
    "            ########################################################\n",
    "            ### Test performance of clear generator (decrypting) ###\n",
    "            ########################################################\n",
    "\n",
    "            test_decrypted_gen = clear_gen(embedding(crypted_txt_test.to(wandb.config[\"device\"]))).detach().to(\"cpu\").view(-1,wandb.config[\"instance_size\"],wandb.config[\"dictionary_size\"])\n",
    "            test_decrypted_gen_char = torch.argmax(test_decrypted_gen, 2).view(-1)\n",
    "            test_decrypted_accuracy = (test_decrypted.view(-1)==test_decrypted_gen_char).sum().item()/len(test_decrypted.view(-1))\n",
    "            wandb.log({\"test decrypting accuracy\": test_decrypted_accuracy}, commit=False)\n",
    "\n",
    "            ##########################################################\n",
    "            ### Test performance of crypted generator (encrypting) ###\n",
    "            ##########################################################\n",
    "\n",
    "            test_encrypted_gen = crypted_gen(embedding(clear_txt_test.to(wandb.config[\"device\"]))).detach().to(\"cpu\").view(-1,wandb.config[\"instance_size\"],wandb.config[\"dictionary_size\"])\n",
    "            test_encrypted_gen_char = torch.argmax(test_encrypted_gen, 2).view(-1)\n",
    "            test_encrypted_accuracy = (test_encrypted.view(-1)==test_encrypted_gen_char).sum().item()/len(test_encrypted.view(-1))\n",
    "            wandb.log({\"test encrypting accuracy\": test_encrypted_accuracy}, commit=True)\n",
    "\n",
    "    scheduler_crypted_gen.step()\n",
    "    scheduler_clear_gen.step()\n",
    "    scheduler_crypted_discr.step()\n",
    "    scheduler_clear_discr.step()\n",
    "    scheduler_embedding.step()\n",
    "\n",
    "\n",
    "\n"
   ],
   "metadata": {
    "collapsed": false,
    "pycharm": {
     "name": "#%%\n"
    }
   }
  },
  {
   "cell_type": "markdown",
   "source": [
    "# Set all the models to evaluation mode to validate performanced of our generators"
   ],
   "metadata": {
    "collapsed": false
   }
  },
  {
   "cell_type": "code",
   "execution_count": null,
   "outputs": [],
   "source": [
    "crypted_discr.eval()\n",
    "clear_discr.eval()"
   ],
   "metadata": {
    "collapsed": false,
    "pycharm": {
     "name": "#%%\n"
    }
   }
  },
  {
   "cell_type": "code",
   "execution_count": null,
   "outputs": [],
   "source": [
    "crypted_gen.eval()\n",
    "clear_gen.eval()"
   ],
   "metadata": {
    "collapsed": false,
    "pycharm": {
     "name": "#%%\n"
    }
   }
  },
  {
   "cell_type": "code",
   "execution_count": null,
   "outputs": [],
   "source": [
    "embedding.to(\"cpu\")\n",
    "embedding.eval()"
   ],
   "metadata": {
    "collapsed": false,
    "pycharm": {
     "name": "#%%\n"
    }
   }
  },
  {
   "cell_type": "markdown",
   "source": [
    "# Validate performance of clear generator (decrypting)"
   ],
   "metadata": {
    "collapsed": false
   }
  },
  {
   "cell_type": "code",
   "execution_count": null,
   "outputs": [],
   "source": [
    "with torch.no_grad():\n",
    "    clear_gen = clear_gen.to(\"cpu\")\n",
    "    val_crypt_np = crypted_txt_valid.view(-1,wandb.config[\"instance_size\"],wandb.config[\"dictionary_size\"]).detach().numpy()\n",
    "    decrypted_np = ceasar_shift(val_crypt_np, -wandb.config[\"shift\"])\n",
    "    decrypted_gen = clear_gen(embedding(crypted_txt_valid)).view(-1,wandb.config[\"instance_size\"],wandb.config[\"dictionary_size\"]).detach().numpy()\n",
    "    decrypted_np_char = np.argmax(decrypted_np, axis=2).reshape(-1)\n",
    "    decrypted_gen_char = np.argmax(decrypted_gen, axis=2).reshape(-1)\n",
    "    print((decrypted_np_char == decrypted_gen_char).mean())"
   ],
   "metadata": {
    "collapsed": false,
    "pycharm": {
     "name": "#%%\n"
    }
   }
  },
  {
   "cell_type": "markdown",
   "source": [
    "# Validate performance of crypted generator (encrypting)"
   ],
   "metadata": {
    "collapsed": false
   }
  },
  {
   "cell_type": "code",
   "execution_count": null,
   "outputs": [],
   "source": [
    "with torch.no_grad():\n",
    "    crypted_gen = crypted_gen.to(\"cpu\")\n",
    "    val_clear_np = clear_txt_valid.view(-1,wandb.config[\"instance_size\"],wandb.config[\"dictionary_size\"]).detach().numpy()\n",
    "    encrypted_np = ceasar_shift(val_clear_np,wandb.config[\"shift\"])\n",
    "    encrypted_gen = crypted_gen(embedding(clear_txt_valid)).view(-1,wandb.config[\"instance_size\"],wandb.config[\"dictionary_size\"]).detach().numpy()\n",
    "    encrypted_np_char = np.argmax(encrypted_np, axis=2).reshape(-1)\n",
    "    encrypted_gen_char = np.argmax(encrypted_gen, axis=2).reshape(-1)\n",
    "    print((encrypted_np_char == encrypted_gen_char).mean())"
   ],
   "metadata": {
    "collapsed": false,
    "pycharm": {
     "name": "#%%\n"
    }
   }
  },
  {
   "cell_type": "markdown",
   "source": [
    "# Save models if necessary"
   ],
   "metadata": {
    "collapsed": false
   }
  },
  {
   "cell_type": "code",
   "execution_count": null,
   "outputs": [],
   "source": [
    "time = datetime.datetime.now()\n",
    "name= \"checkpoint-\"+ str(time.year) + \"-\" + str(time.month) + \"-\" + str(time.day)  + \"-\" + str(time.hour) + \"-\" + str(time.minute) + \".pt\"\n",
    "\n",
    "torch.save({\n",
    "    \"crypted_gen_sate_dict\" : crypted_gen.state_dict(),\n",
    "    \"clear_gen_sate_dict\" : clear_gen.state_dict(),\n",
    "    \"crypted_discr_sate_dict\" : crypted_discr.state_dict(),\n",
    "    \"clear_discr_sate_dict\" : clear_discr.state_dict(),\n",
    "    \"embedding_state_dict\" : embedding.state_dict(),\n",
    "    \"crypted_gen_optimizer\" : optimizer_crypted_gen.state_dict(),\n",
    "    \"clear_gen_optimizer\" : optimizer_clear_gen.state_dict(),\n",
    "    \"crypted_discr_optimizer\" : optimizer_crypted_discr.state_dict(),\n",
    "    \"clear_discr_optimizer\" : optimizer_clear_discr.state_dict(),\n",
    "    \"embedding_optimizer\" : optimizer_embedding.state_dict()\n",
    "\n",
    "}, name)\n"
   ],
   "metadata": {
    "collapsed": false,
    "pycharm": {
     "name": "#%%\n"
    }
   }
  }
 ],
 "metadata": {
  "kernelspec": {
   "display_name": "Python 3",
   "language": "python",
   "name": "python3"
  },
  "language_info": {
   "codemirror_mode": {
    "name": "ipython",
    "version": 2
   },
   "file_extension": ".py",
   "mimetype": "text/x-python",
   "name": "python",
   "nbconvert_exporter": "python",
   "pygments_lexer": "ipython2",
   "version": "2.7.6"
  }
 },
 "nbformat": 4,
 "nbformat_minor": 0
}