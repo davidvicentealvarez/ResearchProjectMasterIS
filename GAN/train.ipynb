{
 "cells": [
  {
   "cell_type": "code",
   "execution_count": 1,
   "metadata": {
    "collapsed": true
   },
   "outputs": [],
   "source": [
    "import numpy as np\n",
    "import torch\n",
    "from data import ceasar_shift, convert_data\n",
    "from torch import nn\n",
    "from torch.utils.data.sampler import SubsetRandomSampler\n",
    "import torch.optim as optim\n",
    "from torch.utils.data import Dataset, DataLoader\n",
    "from model import Generator, Discriminator, PointGenerator\n",
    "import matplotlib.pyplot as plt\n",
    "from IPython.display import display, clear_output"
   ]
  },
  {
   "cell_type": "markdown",
   "source": [
    "## Init parameters"
   ],
   "metadata": {
    "collapsed": false,
    "pycharm": {
     "name": "#%% md\n"
    }
   }
  },
  {
   "cell_type": "code",
   "execution_count": 2,
   "outputs": [],
   "source": [
    "# init parameters\n",
    "torch.manual_seed(1)\n",
    "np.random.seed(1)\n",
    "batch_size = 256\n",
    "num_epochs = 100\n",
    "lr = 0.02\n",
    "device = \"cuda\" if torch.cuda.is_available() else \"cpu\"\n",
    "shift = 10\n",
    "reg = 1"
   ],
   "metadata": {
    "collapsed": false,
    "pycharm": {
     "name": "#%%\n"
    }
   }
  },
  {
   "cell_type": "markdown",
   "source": [
    "## Load data\n"
   ],
   "metadata": {
    "collapsed": false
   }
  },
  {
   "cell_type": "code",
   "execution_count": 3,
   "outputs": [
    {
     "name": "stdout",
     "output_type": "stream",
     "text": [
      "(3675, 216, 27) int32\n",
      "(3675, 216, 27) int32\n"
     ]
    }
   ],
   "source": [
    "np_data = convert_data()\n",
    "np_crypted_data = ceasar_shift(np_data, shift)\n",
    "\n",
    "tensor_clear_text = torch.from_numpy(np_data)\n",
    "tensor_crypted_data = torch.from_numpy(np_crypted_data)\n",
    "\n",
    "tensor_clear_text = tensor_clear_text.float().view(-1, 1, 216, 27)\n",
    "tensor_crypted_data = tensor_crypted_data.float().view(-1, 1, 216, 27)\n",
    "\n",
    "num_train = len(tensor_clear_text)\n",
    "indices_clear = list(range(num_train))\n",
    "np.random.shuffle(indices_clear)\n",
    "train_split_clear = int(np.floor(0.6 * num_train))\n",
    "test_split_clear = int(np.floor(0.8 * num_train))\n",
    "\n",
    "\n",
    "num_train = len(tensor_clear_text)\n",
    "indices_crypted = list(range(num_train))\n",
    "np.random.shuffle(indices_crypted)\n",
    "train_split_crypted = int(np.floor(0.6 * num_train))\n",
    "test_split_crypted = int(np.floor(0.8 * num_train))\n",
    "\n",
    "clear_txt_train = tensor_clear_text[:train_split_clear]\n",
    "clear_txt_test = tensor_clear_text[train_split_clear:test_split_clear]\n",
    "clear_txt_valid = tensor_clear_text[test_split_clear:]\n",
    "\n",
    "crypted_txt_train = tensor_crypted_data[:train_split_crypted]\n",
    "crypted_txt_test = tensor_crypted_data[train_split_crypted:test_split_crypted]\n",
    "crypted_txt_valid = tensor_crypted_data[test_split_crypted:]"
   ],
   "metadata": {
    "collapsed": false,
    "pycharm": {
     "name": "#%%\n"
    }
   }
  },
  {
   "cell_type": "markdown",
   "source": [
    "## Create data loaders"
   ],
   "metadata": {
    "collapsed": false
   }
  },
  {
   "cell_type": "code",
   "execution_count": 4,
   "outputs": [],
   "source": [
    "train_clear_loader = DataLoader(clear_txt_train, batch_size=batch_size)\n",
    "\n",
    "\n",
    "train_crypted_loader = DataLoader(crypted_txt_train, batch_size=batch_size)"
   ],
   "metadata": {
    "collapsed": false,
    "pycharm": {
     "name": "#%%\n"
    }
   }
  },
  {
   "cell_type": "markdown",
   "source": [
    "## Init models"
   ],
   "metadata": {
    "collapsed": false
   }
  },
  {
   "cell_type": "code",
   "execution_count": 5,
   "outputs": [],
   "source": [
    "crypted_gen = Generator().to(device) # converts clear to crypted\n",
    "clear_gen = Generator().to(device) # converts crypted to clear\n",
    "crypted_discr = Discriminator().to(device)\n",
    "clear_discr = Discriminator().to(device)\n",
    "\n",
    "# Setup Adam optimizers for both generators\n",
    "optimizer_crypted_gen = optim.Adam(crypted_gen.parameters(), lr=lr)\n",
    "optimizer_clear_gen = optim.Adam(clear_gen.parameters(), lr=lr)\n",
    "\n",
    "# Setup Adam optimizers for both discriminators\n",
    "optimizer_crypted_discr= optim.Adam(crypted_discr.parameters(), lr=lr*0.001)\n",
    "optimizer_clear_discr = optim.Adam(clear_discr.parameters(), lr=lr*0.001)\n",
    "\n",
    "BCE = nn.BCELoss()\n",
    "cross_entropy = nn.CrossEntropyLoss()"
   ],
   "metadata": {
    "collapsed": false,
    "pycharm": {
     "name": "#%%\n"
    }
   }
  },
  {
   "cell_type": "markdown",
   "source": [
    "## init loop variables"
   ],
   "metadata": {
    "collapsed": false
   }
  },
  {
   "cell_type": "code",
   "execution_count": 6,
   "outputs": [],
   "source": [
    "crypted_gen_loss_hist = []\n",
    "clear_gen_loss_hist = []\n",
    "crypted_discr_loss_hist = []\n",
    "clear_discr_loss_hist = []\n",
    "crypted_gen_acc_hist = []\n",
    "clear_gen_acc_hist = []\n",
    "crypted_discr_acc_hist = []\n",
    "clear_discr_acc_hist = []\n",
    "test_decrypted_accuracy_hist = []\n",
    "test_encrypted_accuracy_hist = []"
   ],
   "metadata": {
    "collapsed": false,
    "pycharm": {
     "name": "#%%\n"
    }
   }
  },
  {
   "cell_type": "code",
   "execution_count": 7,
   "outputs": [],
   "source": [
    "with torch.no_grad():\n",
    "    test_crypt_np = crypted_txt_test.view(-1,216,27).detach().numpy()\n",
    "    test_decrypted_np = ceasar_shift(test_crypt_np, -shift)\n",
    "    test_decrypted_np_char = np.argmax(test_decrypted_np, axis=2).reshape(-1)\n",
    "    test_decrypted = torch.from_numpy(test_decrypted_np_char).to(device)\n",
    "    crypted_txt_valid = crypted_txt_valid.float().to(device)\n",
    "\n",
    "    test_clear_np = clear_txt_test.view(-1,216,27).detach().numpy()\n",
    "    test_encrypted_np = ceasar_shift(test_clear_np, shift)\n",
    "    test_encrypted_np_char = np.argmax(test_encrypted_np, axis=2).reshape(-1)\n",
    "    test_encrypted = torch.from_numpy(test_encrypted_np_char).to(device)\n",
    "    clear_txt_valid = clear_txt_valid.float().to(device)"
   ],
   "metadata": {
    "collapsed": false,
    "pycharm": {
     "name": "#%%\n"
    }
   }
  },
  {
   "cell_type": "markdown",
   "source": [
    "# train loop"
   ],
   "metadata": {
    "collapsed": false,
    "pycharm": {
     "name": "#%% md\n"
    }
   }
  },
  {
   "cell_type": "code",
   "execution_count": 8,
   "outputs": [
    {
     "data": {
      "text/plain": "'epoch : 1'"
     },
     "metadata": {},
     "output_type": "display_data"
    },
    {
     "data": {
      "text/plain": "'iteration : 3'"
     },
     "metadata": {},
     "output_type": "display_data"
    },
    {
     "data": {
      "text/plain": "'train loss crypt gen : 29.544612884521484'"
     },
     "metadata": {},
     "output_type": "display_data"
    },
    {
     "data": {
      "text/plain": "'train loss clear gen : 29.51576805114746'"
     },
     "metadata": {},
     "output_type": "display_data"
    },
    {
     "data": {
      "text/plain": "'train loss crypt disc : 1.3762502670288086'"
     },
     "metadata": {},
     "output_type": "display_data"
    },
    {
     "data": {
      "text/plain": "'train loss clear disc : 1.3782793283462524'"
     },
     "metadata": {},
     "output_type": "display_data"
    },
    {
     "data": {
      "text/plain": "'clear discr accuracy : 0.5'"
     },
     "metadata": {},
     "output_type": "display_data"
    },
    {
     "data": {
      "text/plain": "'crypted discr accuracy : 0.5'"
     },
     "metadata": {},
     "output_type": "display_data"
    },
    {
     "data": {
      "text/plain": "'clear gen accuracy : 1.0'"
     },
     "metadata": {},
     "output_type": "display_data"
    },
    {
     "data": {
      "text/plain": "'crypted gen accuracy : 1.0'"
     },
     "metadata": {},
     "output_type": "display_data"
    },
    {
     "ename": "KeyboardInterrupt",
     "evalue": "",
     "output_type": "error",
     "traceback": [
      "\u001B[1;31m---------------------------------------------------------------------------\u001B[0m",
      "\u001B[1;31mKeyboardInterrupt\u001B[0m                         Traceback (most recent call last)",
      "\u001B[1;32m~\\AppData\\Local\\Temp/ipykernel_15000/3094043515.py\u001B[0m in \u001B[0;36m<module>\u001B[1;34m\u001B[0m\n\u001B[0;32m     25\u001B[0m         \u001B[0mtrue_labels\u001B[0m \u001B[1;33m=\u001B[0m \u001B[0mtorch\u001B[0m\u001B[1;33m.\u001B[0m\u001B[0mfull\u001B[0m\u001B[1;33m(\u001B[0m\u001B[1;33m(\u001B[0m\u001B[0mlen\u001B[0m\u001B[1;33m(\u001B[0m\u001B[0mreal_clear_text\u001B[0m\u001B[1;33m)\u001B[0m\u001B[1;33m,\u001B[0m\u001B[1;36m1\u001B[0m\u001B[1;33m)\u001B[0m\u001B[1;33m,\u001B[0m \u001B[1;36m1\u001B[0m\u001B[1;33m,\u001B[0m \u001B[0mdtype\u001B[0m\u001B[1;33m=\u001B[0m\u001B[0mtorch\u001B[0m\u001B[1;33m.\u001B[0m\u001B[0mfloat\u001B[0m\u001B[1;33m,\u001B[0m \u001B[0mdevice\u001B[0m\u001B[1;33m=\u001B[0m\u001B[0mdevice\u001B[0m\u001B[1;33m)\u001B[0m\u001B[1;33m\u001B[0m\u001B[1;33m\u001B[0m\u001B[0m\n\u001B[0;32m     26\u001B[0m         \u001B[0mbatch_clear_d_true_loss\u001B[0m \u001B[1;33m=\u001B[0m \u001B[0mBCE\u001B[0m\u001B[1;33m(\u001B[0m\u001B[0mpred_real_clear\u001B[0m\u001B[1;33m,\u001B[0m \u001B[0mtrue_labels\u001B[0m\u001B[1;33m)\u001B[0m\u001B[1;33m\u001B[0m\u001B[1;33m\u001B[0m\u001B[0m\n\u001B[1;32m---> 27\u001B[1;33m         \u001B[0mbatch_clear_d_true_loss\u001B[0m\u001B[1;33m.\u001B[0m\u001B[0mbackward\u001B[0m\u001B[1;33m(\u001B[0m\u001B[1;33m)\u001B[0m\u001B[1;33m\u001B[0m\u001B[1;33m\u001B[0m\u001B[0m\n\u001B[0m\u001B[0;32m     28\u001B[0m \u001B[1;33m\u001B[0m\u001B[0m\n\u001B[0;32m     29\u001B[0m         \u001B[1;31m## train clear Discr on fake data.py\u001B[0m\u001B[1;33m\u001B[0m\u001B[1;33m\u001B[0m\u001B[1;33m\u001B[0m\u001B[0m\n",
      "\u001B[1;32mc:\\users\\ansad\\documents\\masteris\\researchprojectmasteris\\gan\\venv\\lib\\site-packages\\torch\\_tensor.py\u001B[0m in \u001B[0;36mbackward\u001B[1;34m(self, gradient, retain_graph, create_graph, inputs)\u001B[0m\n\u001B[0;32m    305\u001B[0m                 \u001B[0mcreate_graph\u001B[0m\u001B[1;33m=\u001B[0m\u001B[0mcreate_graph\u001B[0m\u001B[1;33m,\u001B[0m\u001B[1;33m\u001B[0m\u001B[1;33m\u001B[0m\u001B[0m\n\u001B[0;32m    306\u001B[0m                 inputs=inputs)\n\u001B[1;32m--> 307\u001B[1;33m         \u001B[0mtorch\u001B[0m\u001B[1;33m.\u001B[0m\u001B[0mautograd\u001B[0m\u001B[1;33m.\u001B[0m\u001B[0mbackward\u001B[0m\u001B[1;33m(\u001B[0m\u001B[0mself\u001B[0m\u001B[1;33m,\u001B[0m \u001B[0mgradient\u001B[0m\u001B[1;33m,\u001B[0m \u001B[0mretain_graph\u001B[0m\u001B[1;33m,\u001B[0m \u001B[0mcreate_graph\u001B[0m\u001B[1;33m,\u001B[0m \u001B[0minputs\u001B[0m\u001B[1;33m=\u001B[0m\u001B[0minputs\u001B[0m\u001B[1;33m)\u001B[0m\u001B[1;33m\u001B[0m\u001B[1;33m\u001B[0m\u001B[0m\n\u001B[0m\u001B[0;32m    308\u001B[0m \u001B[1;33m\u001B[0m\u001B[0m\n\u001B[0;32m    309\u001B[0m     \u001B[1;32mdef\u001B[0m \u001B[0mregister_hook\u001B[0m\u001B[1;33m(\u001B[0m\u001B[0mself\u001B[0m\u001B[1;33m,\u001B[0m \u001B[0mhook\u001B[0m\u001B[1;33m)\u001B[0m\u001B[1;33m:\u001B[0m\u001B[1;33m\u001B[0m\u001B[1;33m\u001B[0m\u001B[0m\n",
      "\u001B[1;32mc:\\users\\ansad\\documents\\masteris\\researchprojectmasteris\\gan\\venv\\lib\\site-packages\\torch\\autograd\\__init__.py\u001B[0m in \u001B[0;36mbackward\u001B[1;34m(tensors, grad_tensors, retain_graph, create_graph, grad_variables, inputs)\u001B[0m\n\u001B[0;32m    152\u001B[0m         \u001B[0mretain_graph\u001B[0m \u001B[1;33m=\u001B[0m \u001B[0mcreate_graph\u001B[0m\u001B[1;33m\u001B[0m\u001B[1;33m\u001B[0m\u001B[0m\n\u001B[0;32m    153\u001B[0m \u001B[1;33m\u001B[0m\u001B[0m\n\u001B[1;32m--> 154\u001B[1;33m     Variable._execution_engine.run_backward(\n\u001B[0m\u001B[0;32m    155\u001B[0m         \u001B[0mtensors\u001B[0m\u001B[1;33m,\u001B[0m \u001B[0mgrad_tensors_\u001B[0m\u001B[1;33m,\u001B[0m \u001B[0mretain_graph\u001B[0m\u001B[1;33m,\u001B[0m \u001B[0mcreate_graph\u001B[0m\u001B[1;33m,\u001B[0m \u001B[0minputs\u001B[0m\u001B[1;33m,\u001B[0m\u001B[1;33m\u001B[0m\u001B[1;33m\u001B[0m\u001B[0m\n\u001B[0;32m    156\u001B[0m         allow_unreachable=True, accumulate_grad=True)  # allow_unreachable flag\n",
      "\u001B[1;31mKeyboardInterrupt\u001B[0m: "
     ]
    }
   ],
   "source": [
    "torch.autograd.set_detect_anomaly(True)\n",
    "for epoch in range(num_epochs):\n",
    "\n",
    "    dataloader_iterator = iter(train_crypted_loader)\n",
    "\n",
    "    for i, clear in enumerate(train_clear_loader):\n",
    "        crypted_gen.train()\n",
    "        clear_gen.train()\n",
    "        crypted_discr.train()\n",
    "        clear_discr.train()\n",
    "        try:\n",
    "            crypted = next(dataloader_iterator)\n",
    "        except StopIteration:\n",
    "            dataloader_iterator = iter(train_clear_loader)\n",
    "            crypted = next(dataloader_iterator)\n",
    "\n",
    "        real_clear_text = clear.to(device)\n",
    "        real_crypted_text = crypted.to(device)\n",
    "        fake_clear_text = clear_gen(real_crypted_text)\n",
    "        fake_crypted_text = crypted_gen(real_clear_text)\n",
    "\n",
    "        ## train clear discr on true data\n",
    "        clear_discr.zero_grad()\n",
    "        pred_real_clear = clear_discr(real_clear_text)\n",
    "        true_labels = torch.full((len(real_clear_text),1), 1, dtype=torch.float, device=device)\n",
    "        batch_clear_d_true_loss = BCE(pred_real_clear, true_labels)\n",
    "        batch_clear_d_true_loss.backward()\n",
    "\n",
    "        ## train clear Discr on fake data.py\n",
    "        pred_fake_clear  = clear_discr(fake_clear_text.detach())\n",
    "        fake_labels = torch.full((len(real_clear_text),1), 0, dtype=torch.float, device=device)\n",
    "        batch_clear_d_fake_loss = BCE(pred_fake_clear, fake_labels)\n",
    "        batch_clear_d_fake_loss.backward()\n",
    "        error_d_clear = batch_clear_d_fake_loss + batch_clear_d_true_loss\n",
    "        clear_discr_loss_hist.append(error_d_clear.item())\n",
    "        optimizer_clear_discr.step()\n",
    "\n",
    "        ## train crypted discr on true data\n",
    "        crypted_discr.zero_grad()\n",
    "        pred_real_crypted = crypted_discr(real_crypted_text)\n",
    "        true_labels = torch.full((len(real_crypted_text),1), 1, dtype=torch.float, device=device)\n",
    "        batch_crypted_d_true_loss = BCE(pred_real_crypted, true_labels)\n",
    "        batch_crypted_d_true_loss.backward()\n",
    "\n",
    "        ## train crypted Discr on fake data\n",
    "        pred_fake_crypted  = crypted_discr(fake_crypted_text.detach())\n",
    "        fake_labels = torch.full((len(fake_crypted_text),1), 0, dtype=torch.float, device=device)\n",
    "        batch_crypted_d_fake_loss = BCE(pred_fake_crypted, fake_labels)\n",
    "        batch_crypted_d_fake_loss.backward()\n",
    "        error_d_crypted = batch_crypted_d_fake_loss + batch_crypted_d_true_loss\n",
    "        crypted_discr_loss_hist.append(error_d_crypted.item())\n",
    "        optimizer_crypted_discr.step()\n",
    "\n",
    "        ## train clear gen\n",
    "        clear_gen.zero_grad()\n",
    "        crypted_gen.zero_grad()\n",
    "        gen_fake_clear = clear_discr(fake_clear_text)\n",
    "        gen_labels = torch.full((len(fake_clear_text),1), 1, dtype=torch.float, device=device)\n",
    "        fake_gen_clear_loss = BCE(gen_fake_clear, gen_labels)\n",
    "        fake_gen_clear_loss.backward()\n",
    "\n",
    "        fake_crypted_reconstruct = crypted_gen(clear_gen(real_crypted_text))\n",
    "        fake_crypted_reconstruct_loss = torch.linalg.norm(fake_crypted_reconstruct - real_crypted_text, dim=(2,3)).mean() * reg\n",
    "        # fake_crypted_reconstruct_loss = cross_entropy(fake_crypted_reconstruct.view(-1, 216, 27).transpose(1,2), torch.argmax(real_crypted_text, 3).view(-1,216))\n",
    "        fake_crypted_reconstruct_loss.backward()\n",
    "\n",
    "        fake_clear_reconstruct =  clear_gen(crypted_gen(real_clear_text))\n",
    "        fake_clear_reconstruct_loss = torch.linalg.norm(fake_clear_reconstruct - real_clear_text, dim=(2,3)).mean() * reg\n",
    "        # fake_clear_reconstruct_loss = cross_entropy(fake_clear_reconstruct.view(-1, 216, 27).transpose(1,2), torch.argmax(real_clear_text, 3).view(-1,216))\n",
    "        fake_clear_reconstruct_loss.backward()\n",
    "\n",
    "        batch_clear_gen_loss = fake_gen_clear_loss + fake_crypted_reconstruct_loss + fake_clear_reconstruct_loss\n",
    "        # batch_clear_gen_loss.backward()\n",
    "        optimizer_clear_gen.step()\n",
    "        clear_gen_loss_hist.append(batch_clear_gen_loss.item())\n",
    "\n",
    "        ## train crypted gen\n",
    "        crypted_gen.zero_grad()\n",
    "        clear_gen.zero_grad()\n",
    "        gen_fake_crypted = crypted_discr(fake_crypted_text)\n",
    "        gen_labels = torch.full((len(fake_crypted_text),1), 1, dtype=torch.float, device=device)\n",
    "        fake_gen_crypted_loss = BCE(gen_fake_crypted, gen_labels)\n",
    "        fake_gen_crypted_loss.backward()\n",
    "\n",
    "        fake_crypted_reconstruct = crypted_gen(clear_gen(real_crypted_text))\n",
    "        fake_crypted_reconstruct_loss = torch.linalg.norm(fake_crypted_reconstruct - real_crypted_text, dim=(2,3)).mean() * reg\n",
    "        # fake_crypted_reconstruct_loss = cross_entropy(fake_crypted_reconstruct.view(-1, 216, 27).transpose(1,2), torch.argmax(real_crypted_text, 3).view(-1,216))\n",
    "        fake_crypted_reconstruct_loss.backward()\n",
    "\n",
    "        fake_clear_reconstruct =  clear_gen(crypted_gen(real_clear_text))\n",
    "        fake_clear_reconstruct_loss = torch.linalg.norm(fake_clear_reconstruct - real_clear_text, dim=(2,3)).mean() * reg\n",
    "        # fake_clear_reconstruct_loss = cross_entropy(fake_clear_reconstruct.view(-1, 216, 27).transpose(1,2), torch.argmax(real_clear_text, 3).view(-1,216))\n",
    "        fake_clear_reconstruct_loss.backward()\n",
    "\n",
    "        batch_crypted_gen_loss = fake_gen_crypted_loss + fake_crypted_reconstruct_loss + fake_clear_reconstruct_loss\n",
    "        # batch_crypted_gen_loss.backward()\n",
    "        optimizer_crypted_gen.step()\n",
    "        crypted_gen_loss_hist.append(batch_crypted_gen_loss.item())\n",
    "        # print(epoch, i,crypted_gen_loss_hist[-1],clear_gen_loss_hist[-1],crypted_discr_loss_hist[-1],clear_discr_loss_hist[-1])\n",
    "        crypted_gen.eval()\n",
    "        clear_gen.eval()\n",
    "        crypted_discr.eval()\n",
    "        clear_discr.eval()\n",
    "        with torch.no_grad():\n",
    "            test_decrypted_gen = clear_gen(crypted_txt_valid).view(-1,216,27).detach()\n",
    "            test_decrypted_gen_char = torch.argmax(test_decrypted_gen, 2).view(-1)\n",
    "            test_decrypted_accuracy = (test_decrypted==test_decrypted_gen_char).sum()/len(test_decrypted_gen_char)\n",
    "            test_decrypted_accuracy_hist.append(test_decrypted_accuracy.to(\"cpu\").item())\n",
    "\n",
    "            test_encrypted_gen = crypted_gen(clear_txt_valid).view(-1,216,27).detach()\n",
    "            test_encrypted_gen_char = torch.argmax(test_encrypted_gen, 2).view(-1)\n",
    "            test_encrypted_accuracy = (test_encrypted==test_encrypted_gen_char).sum()/len(test_encrypted_gen_char)\n",
    "            test_encrypted_accuracy_hist.append(test_encrypted_accuracy.to(\"cpu\").item())\n",
    "\n",
    "            clear_discr_accuracy = (torch.where(pred_real_clear >= 0.5, 1.0, 0.0).mean() + torch.where((1-pred_fake_clear) >= 0.5, 1.0, 0.0).mean())/2\n",
    "            clear_discr_acc_hist.append(clear_discr_accuracy.to(\"cpu\").item())\n",
    "            crypted_discr_accuracy = (torch.where(pred_real_crypted >= 0.5, 1.0, 0.0).mean() + torch.where((1-pred_fake_crypted) >= 0.5, 1.0, 0.0).mean())/2\n",
    "            crypted_discr_acc_hist.append(crypted_discr_accuracy.to(\"cpu\").item())\n",
    "            clear_gen_accuracy = torch.where(gen_fake_clear >= 0.5, 1.0, 0.0).mean()\n",
    "            clear_gen_acc_hist.append(clear_gen_accuracy.to(\"cpu\").item())\n",
    "            crypted_gen_accuracy = torch.where(gen_fake_crypted >= 0.5, 1.0, 0.0).mean()\n",
    "            crypted_gen_acc_hist.append(clear_gen_accuracy.to(\"cpu\").item())\n",
    "        clear_output()\n",
    "        display(\"epoch : \" + str(epoch))\n",
    "        display(\"iteration : \" + str(i))\n",
    "        display(\"train loss crypt gen : \" + str(crypted_gen_loss_hist[-1]))\n",
    "        display(\"train loss clear gen : \" + str(clear_gen_loss_hist[-1]))\n",
    "        display(\"train loss crypt disc : \" + str(crypted_discr_loss_hist[-1]))\n",
    "        display(\"train loss clear disc : \" + str(clear_discr_loss_hist[-1]))\n",
    "        display(\"clear discr accuracy : \" + str(clear_discr_acc_hist[-1]))\n",
    "        display(\"crypted discr accuracy : \" + str(crypted_discr_acc_hist[-1]))\n",
    "        display(\"clear gen accuracy : \" + str(clear_gen_acc_hist[-1]))\n",
    "        display(\"crypted gen accuracy : \" + str(crypted_gen_acc_hist[-1]))\n",
    "        display(\"encrypting test accuracy : \" +str(test_encrypted_accuracy_hist[-1]))\n",
    "        display(\"decrypting test accuracy : \" +str(test_decrypted_accuracy_hist[-1]))\n",
    "\n"
   ],
   "metadata": {
    "collapsed": false,
    "pycharm": {
     "name": "#%%\n"
    }
   }
  },
  {
   "cell_type": "code",
   "execution_count": null,
   "outputs": [],
   "source": [
    "\n",
    "plt.figure()\n",
    "plt.title(\"chyper gen loss history\")\n",
    "plt.plot(crypted_gen_loss_hist)\n",
    "plt.show()\n",
    "plt.close()\n",
    "plt.figure()\n",
    "plt.title(\"clear gen loss history\")\n",
    "plt.plot(clear_gen_loss_hist)\n",
    "plt.show()\n",
    "plt.close()\n",
    "plt.figure()\n",
    "plt.title(\"chypher discrimnator loss history\")\n",
    "plt.plot(crypted_discr_loss_hist)\n",
    "plt.show()\n",
    "plt.close()\n",
    "plt.figure()\n",
    "plt.title(\"clear discriminator loss history\")\n",
    "plt.plot(clear_discr_loss_hist)\n",
    "plt.show()\n",
    "plt.close()\n",
    "plt.figure()\n",
    "plt.title(\"cypher to clear accuracy\")\n",
    "plt.plot(test_decrypted_accuracy_hist)\n",
    "plt.show()\n",
    "plt.close()\n",
    "plt.figure()\n",
    "plt.title(\"clear to cypher accuracy\")\n",
    "plt.plot(test_encrypted_accuracy_hist)\n",
    "plt.show()\n",
    "plt.close()"
   ],
   "metadata": {
    "collapsed": false,
    "pycharm": {
     "name": "#%%\n"
    }
   }
  },
  {
   "cell_type": "code",
   "execution_count": null,
   "outputs": [],
   "source": [
    "crypted_gen.eval()\n",
    "clear_gen.eval()\n",
    "crypted_discr.eval()\n",
    "clear_discr.eval()\n",
    "\n",
    "with torch.no_grad():\n",
    "    clear_gen = clear_gen.to(\"cpu\")\n",
    "    val_crypt_np = crypted_txt_valid.to(\"cpu\").view(-1,216,27).detach().numpy()\n",
    "    decrypted_np = ceasar_shift(val_crypt_np, -shift)\n",
    "    decrypted_gen = clear_gen(crypted_txt_valid.to(\"cpu\")).view(-1,216,27).detach().numpy()\n",
    "    decrypted_np_char = np.argmax(decrypted_np, axis=2).reshape(-1)\n",
    "    decrypted_gen_char = np.argmax(decrypted_gen, axis=2).reshape(-1)\n",
    "    print((decrypted_np_char == decrypted_gen_char).mean())"
   ],
   "metadata": {
    "collapsed": false,
    "pycharm": {
     "name": "#%%\n"
    }
   }
  },
  {
   "cell_type": "code",
   "execution_count": null,
   "outputs": [],
   "source": [
    "with torch.no_grad():\n",
    "    crypted_gen = crypted_gen.to(\"cpu\")\n",
    "    val_clear_np = clear_txt_valid.to(\"cpu\").view(-1,216,27).detach().numpy()\n",
    "    encrypted_np = ceasar_shift(val_clear_np, shift)\n",
    "    encrypted_gen = crypted_gen(clear_txt_valid.to(\"cpu\")).view(-1,216,27).detach().numpy()\n",
    "    encrypted_np_char = np.argmax(encrypted_np, axis=2).reshape(-1)\n",
    "    encrypted_gen_char = np.argmax(encrypted_gen, axis=2).reshape(-1)\n",
    "    print((encrypted_np_char == encrypted_gen_char).mean())"
   ],
   "metadata": {
    "collapsed": false,
    "pycharm": {
     "name": "#%%\n"
    }
   }
  },
  {
   "cell_type": "code",
   "execution_count": null,
   "outputs": [],
   "source": [
    "torch.save(crypted_gen.state_dict(), \"crypted_gen\")\n",
    "torch.save(clear_gen.state_dict(), \"clear_gen\")\n",
    "torch.save(crypted_discr.state_dict(), \"crypted_disc\")\n",
    "torch.save(clear_discr.state_dict(), \"clear_discr\")"
   ],
   "metadata": {
    "collapsed": false,
    "pycharm": {
     "name": "#%%\n"
    }
   }
  }
 ],
 "metadata": {
  "kernelspec": {
   "display_name": "Python 3",
   "language": "python",
   "name": "python3"
  },
  "language_info": {
   "codemirror_mode": {
    "name": "ipython",
    "version": 2
   },
   "file_extension": ".py",
   "mimetype": "text/x-python",
   "name": "python",
   "nbconvert_exporter": "python",
   "pygments_lexer": "ipython2",
   "version": "2.7.6"
  }
 },
 "nbformat": 4,
 "nbformat_minor": 0
}