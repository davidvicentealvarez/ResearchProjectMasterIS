{
 "cells": [
  {
   "cell_type": "code",
   "execution_count": 1,
   "metadata": {
    "collapsed": true
   },
   "outputs": [],
   "source": [
    "import numpy as np\n",
    "import torch\n",
    "from data import ceasar_shift, convert_data\n",
    "from torch import nn\n",
    "from torch.utils.data.sampler import SubsetRandomSampler\n",
    "import torch.optim as optim\n",
    "from torch.utils.data import Dataset, DataLoader\n",
    "from model import Generator, Discriminator\n",
    "import matplotlib.pyplot as plt\n",
    "from IPython.display import display, clear_output"
   ]
  },
  {
   "cell_type": "markdown",
   "source": [
    "## Init parameters"
   ],
   "metadata": {
    "collapsed": false,
    "pycharm": {
     "name": "#%% md\n"
    }
   }
  },
  {
   "cell_type": "code",
   "execution_count": 2,
   "outputs": [],
   "source": [
    "# init parameters\n",
    "torch.manual_seed(1)\n",
    "np.random.seed(1)\n",
    "batch_size = 256\n",
    "num_epochs = 5\n",
    "lr = 0.0001\n",
    "device = \"cuda\" if torch.cuda.is_available() else \"cpu\"\n",
    "shift = 10"
   ],
   "metadata": {
    "collapsed": false,
    "pycharm": {
     "name": "#%%\n"
    }
   }
  },
  {
   "cell_type": "markdown",
   "source": [
    "## Load data\n"
   ],
   "metadata": {
    "collapsed": false
   }
  },
  {
   "cell_type": "code",
   "execution_count": null,
   "outputs": [],
   "source": [
    "np_data = convert_data()\n",
    "np_crypted_data = ceasar_shift(np_data, shift)\n",
    "\n",
    "tensor_clear_text = torch.from_numpy(np_data)\n",
    "tensor_crypted_data = torch.from_numpy(np_crypted_data)\n",
    "\n",
    "tensor_clear_text = tensor_clear_text.float().view(-1, 1, 216, 27)\n",
    "tensor_crypted_data = tensor_crypted_data.float().view(-1, 1, 216, 27)\n",
    "\n",
    "num_train = len(tensor_clear_text)\n",
    "indices_clear = list(range(num_train))\n",
    "np.random.shuffle(indices_clear)\n",
    "train_split_clear = int(np.floor(0.6 * num_train))\n",
    "test_split_clear = int(np.floor(0.8 * num_train))\n",
    "\n",
    "\n",
    "num_train = len(tensor_clear_text)\n",
    "indices_crypted = list(range(num_train))\n",
    "np.random.shuffle(indices_crypted)\n",
    "train_split_crypted = int(np.floor(0.6 * num_train))\n",
    "test_split_crypted = int(np.floor(0.8 * num_train))\n",
    "\n",
    "clear_txt_train = tensor_clear_text[:train_split_clear]\n",
    "clear_txt_test = tensor_clear_text[train_split_clear:test_split_clear]\n",
    "clear_txt_valid = tensor_clear_text[test_split_clear:]\n",
    "\n",
    "crypted_txt_train = tensor_crypted_data[:train_split_crypted]\n",
    "crypted_txt_test = tensor_crypted_data[train_split_crypted:test_split_crypted]\n",
    "crypted_txt_valid = tensor_crypted_data[test_split_crypted:]"
   ],
   "metadata": {
    "collapsed": false,
    "pycharm": {
     "name": "#%%\n",
     "is_executing": true
    }
   }
  },
  {
   "cell_type": "markdown",
   "source": [
    "## Create data loaders"
   ],
   "metadata": {
    "collapsed": false
   }
  },
  {
   "cell_type": "code",
   "execution_count": null,
   "outputs": [],
   "source": [
    "train_clear_loader = DataLoader(clear_txt_train, batch_size=batch_size)\n",
    "test_clear_loader = DataLoader(clear_txt_test, batch_size=batch_size)\n",
    "valid_clear_loader = DataLoader(clear_txt_valid, batch_size=batch_size)\n",
    "\n",
    "train_crypted_loader = DataLoader(crypted_txt_train, batch_size=batch_size)\n",
    "test_crypted_loader = DataLoader(crypted_txt_test, batch_size=batch_size)\n",
    "valid_crypted_loader = DataLoader(crypted_txt_valid, batch_size=batch_size)\n"
   ],
   "metadata": {
    "collapsed": false,
    "pycharm": {
     "name": "#%%\n",
     "is_executing": true
    }
   }
  },
  {
   "cell_type": "markdown",
   "source": [
    "## Init models"
   ],
   "metadata": {
    "collapsed": false
   }
  },
  {
   "cell_type": "code",
   "execution_count": null,
   "outputs": [],
   "source": [
    "crypted_gen = Generator().to(device) # converts clear to crypted\n",
    "clear_gen = Generator().to(device) # converts crypted to clear\n",
    "crypted_discr = Discriminator().to(device)\n",
    "clear_discr = Discriminator().to(device)\n",
    "\n",
    "# Setup Adam optimizers for both generators\n",
    "optimizer_crypted_gen = optim.Adam(crypted_gen.parameters(), lr=lr*50)\n",
    "optimizer_clear_gen = optim.Adam(clear_gen.parameters(), lr=lr*50)\n",
    "\n",
    "# Setup Adam optimizers for both discriminators\n",
    "optimizer_crypted_discr= optim.Adam(crypted_discr.parameters(), lr=lr * 0.5)\n",
    "optimizer_clear_discr = optim.Adam(clear_discr.parameters(), lr=lr * 0.5)\n",
    "\n",
    "BCE = nn.BCELoss()\n",
    "cross_entropy = nn.CrossEntropyLoss()"
   ],
   "metadata": {
    "collapsed": false,
    "pycharm": {
     "name": "#%%\n",
     "is_executing": true
    }
   }
  },
  {
   "cell_type": "markdown",
   "source": [
    "## init loop variables"
   ],
   "metadata": {
    "collapsed": false
   }
  },
  {
   "cell_type": "code",
   "execution_count": null,
   "outputs": [],
   "source": [
    "crypted_gen_loss_hist = []\n",
    "clear_gen_loss_hist = []\n",
    "crypted_discr_loss_hist = []\n",
    "clear_discr_loss_hist = []\n",
    "test_decrypted_accuracy_hist = []\n",
    "test_encrypted_accuracy_hist = []"
   ],
   "metadata": {
    "collapsed": false,
    "pycharm": {
     "name": "#%%\n",
     "is_executing": true
    }
   }
  },
  {
   "cell_type": "code",
   "execution_count": null,
   "outputs": [],
   "source": [
    "with torch.no_grad():\n",
    "    test_crypt_np = crypted_txt_test.view(-1,216,27).detach().numpy()\n",
    "    test_decrypted_np = ceasar_shift(test_crypt_np, -shift)\n",
    "    test_decrypted_np_char = np.argmax(test_decrypted_np, axis=2).reshape(-1)\n",
    "    test_decrypted = torch.from_numpy(test_decrypted_np_char).to(device)\n",
    "    crypted_txt_valid = crypted_txt_valid.float().to(device)\n",
    "\n",
    "    test_clear_np = clear_txt_test.view(-1,216,27).detach().numpy()\n",
    "    test_encrypted_np = ceasar_shift(test_clear_np, shift)\n",
    "    test_encrypted_np_char = np.argmax(test_encrypted_np, axis=2).reshape(-1)\n",
    "    test_encrypted = torch.from_numpy(test_encrypted_np_char).to(device)\n",
    "    clear_txt_valid = clear_txt_valid.float().to(device)"
   ],
   "metadata": {
    "collapsed": false,
    "pycharm": {
     "name": "#%%\n",
     "is_executing": true
    }
   }
  },
  {
   "cell_type": "markdown",
   "source": [
    "# train loop"
   ],
   "metadata": {
    "collapsed": false,
    "pycharm": {
     "name": "#%% md\n"
    }
   }
  },
  {
   "cell_type": "code",
   "execution_count": null,
   "outputs": [],
   "source": [
    "torch.autograd.set_detect_anomaly(True)\n",
    "for epoch in range(num_epochs):\n",
    "\n",
    "    dataloader_iterator = iter(train_crypted_loader)\n",
    "\n",
    "    for i, clear in enumerate(train_clear_loader):\n",
    "        crypted_gen.train()\n",
    "        clear_gen.train()\n",
    "        crypted_discr.train()\n",
    "        clear_discr.train()\n",
    "        try:\n",
    "            crypted = next(dataloader_iterator)\n",
    "        except StopIteration:\n",
    "            dataloader_iterator = iter(train_clear_loader)\n",
    "            crypted = next(dataloader_iterator)\n",
    "\n",
    "        real_clear_text = clear.to(device)\n",
    "        real_crypted_text = crypted.to(device)\n",
    "        fake_clear_text = clear_gen(real_crypted_text)\n",
    "        fake_crypted_text = crypted_gen(real_clear_text)\n",
    "\n",
    "        ## train clear discr on true data\n",
    "        clear_discr.zero_grad()\n",
    "        pred_real_clear = clear_discr(real_clear_text)\n",
    "        true_labels = torch.full((len(real_clear_text),1), 1, dtype=torch.float, device=device)\n",
    "        batch_clear_d_true_loss = BCE(pred_real_clear, true_labels)\n",
    "        batch_clear_d_true_loss.backward()\n",
    "\n",
    "        ## train clear Discr on fake data.py\n",
    "        pred_fake_clear  = clear_discr(fake_clear_text.detach())\n",
    "        fake_labels = torch.full((len(real_clear_text),1), 0, dtype=torch.float, device=device)\n",
    "        batch_clear_d_fake_loss = BCE(pred_fake_clear, fake_labels)\n",
    "        batch_clear_d_fake_loss.backward()\n",
    "        error_d_clear = batch_clear_d_fake_loss + batch_clear_d_true_loss\n",
    "        clear_discr_loss_hist.append(error_d_clear.item())\n",
    "        optimizer_clear_discr.step()\n",
    "\n",
    "        ## train crypted discr on true data\n",
    "        crypted_discr.zero_grad()\n",
    "        pred_real_crypted = crypted_discr(real_crypted_text)\n",
    "        true_labels = torch.full((len(real_crypted_text),1), 1, dtype=torch.float, device=device)\n",
    "        batch_crypted_d_true_loss = BCE(pred_real_crypted, true_labels)\n",
    "        batch_crypted_d_true_loss.backward()\n",
    "\n",
    "        ## train crypted Discr on fake data\n",
    "        pred_fake_crypted  = crypted_discr(fake_crypted_text.detach())\n",
    "        fake_labels = torch.full((len(fake_crypted_text),1), 0, dtype=torch.float, device=device)\n",
    "        batch_crypted_d_fake_loss = BCE(pred_fake_crypted, fake_labels)\n",
    "        batch_crypted_d_fake_loss.backward()\n",
    "        error_d_crypted = batch_crypted_d_fake_loss + batch_crypted_d_true_loss\n",
    "        crypted_discr_loss_hist.append(error_d_crypted.item())\n",
    "        optimizer_crypted_discr.step()\n",
    "\n",
    "        ## train clear gen\n",
    "        clear_gen.zero_grad()\n",
    "        crypted_gen.zero_grad()\n",
    "        gen_fake_clear = clear_discr(fake_clear_text)\n",
    "        gen_labels = torch.full((len(fake_clear_text),1), 1, dtype=torch.float, device=device)\n",
    "        fake_gen_clear_loss = BCE(gen_fake_clear, gen_labels)\n",
    "        fake_gen_clear_loss.backward()\n",
    "\n",
    "        fake_crypted_reconstruct = crypted_gen(clear_gen(real_crypted_text))\n",
    "        fake_crypted_reconstruct_loss = cross_entropy(fake_crypted_reconstruct.view(-1, 216, 27).transpose(1,2), torch.argmax(real_crypted_text, 3).view(-1,216))\n",
    "        fake_crypted_reconstruct_loss.backward()\n",
    "\n",
    "        fake_clear_reconstruct =  clear_gen(crypted_gen(real_clear_text))\n",
    "        fake_clear_reconstruct_loss = cross_entropy(fake_clear_reconstruct.view(-1, 216, 27).transpose(1,2), torch.argmax(real_clear_text, 3).view(-1,216))\n",
    "        fake_clear_reconstruct_loss.backward()\n",
    "\n",
    "        batch_clear_gen_loss = fake_gen_clear_loss + fake_crypted_reconstruct_loss + fake_clear_reconstruct_loss\n",
    "        # batch_clear_gen_loss.backward()\n",
    "        optimizer_clear_gen.step()\n",
    "        clear_gen_loss_hist.append(batch_clear_gen_loss.item())\n",
    "\n",
    "        ## train crypted gen\n",
    "        crypted_gen.zero_grad()\n",
    "        clear_gen.zero_grad()\n",
    "        gen_fake_crypted = crypted_discr(fake_crypted_text)\n",
    "        gen_labels = torch.full((len(fake_crypted_text),1), 1, dtype=torch.float, device=device)\n",
    "        fake_gen_crypted_loss = BCE(gen_fake_crypted, gen_labels)\n",
    "        fake_gen_crypted_loss.backward()\n",
    "\n",
    "        fake_crypted_reconstruct = crypted_gen(clear_gen(real_crypted_text))\n",
    "        fake_crypted_reconstruct_loss = cross_entropy(fake_crypted_reconstruct.view(-1, 216, 27).transpose(1,2), torch.argmax(real_crypted_text, 3).view(-1,216))\n",
    "        fake_crypted_reconstruct_loss.backward()\n",
    "\n",
    "        fake_clear_reconstruct =  clear_gen(crypted_gen(real_clear_text))\n",
    "        fake_clear_reconstruct_loss = cross_entropy(fake_clear_reconstruct.view(-1, 216, 27).transpose(1,2), torch.argmax(real_clear_text, 3).view(-1,216))\n",
    "        fake_clear_reconstruct_loss.backward()\n",
    "\n",
    "        batch_crypted_gen_loss = fake_gen_crypted_loss + fake_crypted_reconstruct_loss + fake_clear_reconstruct_loss\n",
    "        # batch_crypted_gen_loss.backward()\n",
    "        optimizer_crypted_gen.step()\n",
    "        crypted_gen_loss_hist.append(batch_crypted_gen_loss.item())\n",
    "        clear_output()\n",
    "        display(\"epoch : \" + str(epoch))\n",
    "        display(\"iteration : \" + str(i))\n",
    "        display(\"train loss crypt gen : \" + str(crypted_gen_loss_hist[-1]))\n",
    "        display(\"train loss clear gen : \" + str(clear_gen_loss_hist[-1]))\n",
    "        display(\"train loss crypt disc : \" + str(crypted_discr_loss_hist[-1]))\n",
    "        display(\"train loss clear disc : \" + str(clear_discr_loss_hist[-1]))\n",
    "        # print(epoch, i,crypted_gen_loss_hist[-1],clear_gen_loss_hist[-1],crypted_discr_loss_hist[-1],clear_discr_loss_hist[-1])\n",
    "        crypted_gen.eval()\n",
    "        clear_gen.eval()\n",
    "        crypted_discr.eval()\n",
    "        clear_discr.eval()\n",
    "        with torch.no_grad():\n",
    "            test_decrypted_gen = clear_gen(crypted_txt_valid).view(-1,216,27).detach()\n",
    "            test_decrypted_gen_char = torch.argmax(test_decrypted_gen, 2).view(-1)\n",
    "            test_decrypted_accuracy = (test_decrypted==test_decrypted_gen_char).sum()/len(test_decrypted_gen_char)\n",
    "            display(\"decrypting test accuracy : \" +str(test_decrypted_accuracy.item()))\n",
    "            test_decrypted_accuracy_hist.append(test_decrypted_accuracy.to(\"cpu\").item())\n",
    "\n",
    "            test_encrypted_gen = crypted_gen(clear_txt_valid).view(-1,216,27).detach()\n",
    "            test_encrypted_gen_char = torch.argmax(test_encrypted_gen, 2).view(-1)\n",
    "            test_encrypted_accuracy = (test_encrypted==test_encrypted_gen_char).sum()/len(test_encrypted_gen_char)\n",
    "            display(\"encrypting test accuracy : \" +str(test_encrypted_accuracy.item()))\n",
    "            test_encrypted_accuracy_hist.append(test_encrypted_accuracy.to(\"cpu\").item())\n"
   ],
   "metadata": {
    "collapsed": false,
    "pycharm": {
     "name": "#%%\n",
     "is_executing": true
    }
   }
  },
  {
   "cell_type": "code",
   "execution_count": null,
   "outputs": [],
   "source": [
    "\n",
    "plt.figure()\n",
    "plt.plot(crypted_gen_loss_hist)\n",
    "plt.show()\n",
    "plt.close()\n",
    "plt.figure()\n",
    "plt.plot(clear_gen_loss_hist)\n",
    "plt.show()\n",
    "plt.close()\n",
    "plt.figure()\n",
    "plt.plot(crypted_discr_loss_hist)\n",
    "plt.show()\n",
    "plt.close()\n",
    "plt.figure()\n",
    "plt.plot(clear_discr_loss_hist)\n",
    "plt.show()\n",
    "plt.close()\n",
    "plt.figure()\n",
    "plt.plot(test_decrypted_accuracy_hist)\n",
    "plt.show()\n",
    "plt.close()\n",
    "plt.figure()\n",
    "plt.plot(test_encrypted_accuracy_hist)\n",
    "plt.show()\n",
    "plt.close()"
   ],
   "metadata": {
    "collapsed": false,
    "pycharm": {
     "name": "#%%\n",
     "is_executing": true
    }
   }
  },
  {
   "cell_type": "code",
   "execution_count": null,
   "outputs": [],
   "source": [
    "crypted_gen.eval()\n",
    "clear_gen.eval()\n",
    "crypted_discr.eval()\n",
    "clear_discr.eval()\n",
    "\n",
    "with torch.no_grad():\n",
    "    clear_gen = clear_gen.to(\"cpu\")\n",
    "    val_crypt_np = crypted_txt_valid.to(\"cpu\").view(-1,216,27).detach().numpy()\n",
    "    decrypted_np = ceasar_shift(val_crypt_np, -shift)\n",
    "    decrypted_gen = clear_gen(crypted_txt_valid.to(\"cpu\")).view(-1,216,27).detach().numpy()\n",
    "    decrypted_np_char = np.argmax(decrypted_np, axis=2).reshape(-1)\n",
    "    decrypted_gen_char = np.argmax(decrypted_gen, axis=2).reshape(-1)\n",
    "    print((decrypted_np_char == decrypted_gen_char).mean())"
   ],
   "metadata": {
    "collapsed": false,
    "pycharm": {
     "name": "#%%\n",
     "is_executing": true
    }
   }
  },
  {
   "cell_type": "code",
   "execution_count": null,
   "outputs": [],
   "source": [
    "with torch.no_grad():\n",
    "    crypted_gen = crypted_gen.to(\"cpu\")\n",
    "    val_clear_np = clear_txt_valid.to(\"cpu\").view(-1,216,27).detach().numpy()\n",
    "    encrypted_np = ceasar_shift(val_clear_np, shift)\n",
    "    encrypted_gen = crypted_gen(clear_txt_valid.to(\"cpu\")).view(-1,216,27).detach().numpy()\n",
    "    encrypted_np_char = np.argmax(encrypted_np, axis=2).reshape(-1)\n",
    "    encrypted_gen_char = np.argmax(encrypted_gen, axis=2).reshape(-1)\n",
    "    print((encrypted_np_char == encrypted_gen_char).mean())"
   ],
   "metadata": {
    "collapsed": false,
    "pycharm": {
     "name": "#%%\n",
     "is_executing": true
    }
   }
  }
 ],
 "metadata": {
  "kernelspec": {
   "display_name": "Python 3",
   "language": "python",
   "name": "python3"
  },
  "language_info": {
   "codemirror_mode": {
    "name": "ipython",
    "version": 2
   },
   "file_extension": ".py",
   "mimetype": "text/x-python",
   "name": "python",
   "nbconvert_exporter": "python",
   "pygments_lexer": "ipython2",
   "version": "2.7.6"
  }
 },
 "nbformat": 4,
 "nbformat_minor": 0
}