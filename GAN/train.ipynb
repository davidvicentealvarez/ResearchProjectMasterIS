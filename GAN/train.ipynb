{
 "cells": [
  {
   "cell_type": "code",
   "execution_count": 1,
   "metadata": {
    "collapsed": true
   },
   "outputs": [],
   "source": [
    "import numpy as np\n",
    "import torch\n",
    "from data import ceasar_shift, convert_data\n",
    "from torch import nn\n",
    "from torch.utils.data.sampler import SubsetRandomSampler\n",
    "import torch.optim as optim\n",
    "from torch.utils.data import Dataset, DataLoader\n",
    "from model import Generator, Discriminator, GeneratorV2, DiscriminatorV2\n",
    "import matplotlib.pyplot as plt\n",
    "from IPython.display import display, clear_output"
   ]
  },
  {
   "cell_type": "markdown",
   "source": [
    "## Init parameters"
   ],
   "metadata": {
    "collapsed": false,
    "pycharm": {
     "name": "#%% md\n"
    }
   }
  },
  {
   "cell_type": "code",
   "execution_count": 2,
   "outputs": [],
   "source": [
    "# init parameters\n",
    "torch.manual_seed(1)\n",
    "np.random.seed(1)\n",
    "batch_size = 256\n",
    "num_epochs = 100\n",
    "lr = 0.02\n",
    "device = \"cuda\" if torch.cuda.is_available() else \"cpu\"\n",
    "shift = 10\n",
    "reg = 1\n",
    "instance_size = 216\n",
    "dictionary_size = 27"
   ],
   "metadata": {
    "collapsed": false,
    "pycharm": {
     "name": "#%%\n"
    }
   }
  },
  {
   "cell_type": "markdown",
   "source": [
    "## Load data\n"
   ],
   "metadata": {
    "collapsed": false
   }
  },
  {
   "cell_type": "code",
   "execution_count": 3,
   "outputs": [
    {
     "name": "stdout",
     "output_type": "stream",
     "text": [
      "(3675, 216, 27) int32\n",
      "(3675, 216, 27) int32\n"
     ]
    }
   ],
   "source": [
    "## Create data\n",
    "np_data = convert_data(fixed_len=instance_size)\n",
    "np_crypted_data = ceasar_shift(np_data, shift)\n",
    "\n",
    "tensor_clear_text = torch.from_numpy(np_data)\n",
    "tensor_crypted_data = torch.from_numpy(np_crypted_data)\n",
    "\n",
    "tensor_clear_text = tensor_clear_text.float().view(-1, 1, instance_size, dictionary_size)\n",
    "tensor_crypted_data = tensor_crypted_data.float().view(-1, 1, instance_size, dictionary_size)\n",
    "\n",
    "num_train = len(tensor_clear_text)\n",
    "indices_clear = list(range(num_train))\n",
    "np.random.shuffle(indices_clear)\n",
    "train_split_clear = int(np.floor(0.6 * num_train))\n",
    "test_split_clear = int(np.floor(0.8 * num_train))\n",
    "\n",
    "\n",
    "num_train = len(tensor_clear_text)\n",
    "indices_crypted = list(range(num_train))\n",
    "np.random.shuffle(indices_crypted)\n",
    "train_split_crypted = int(np.floor(0.6 * num_train))\n",
    "test_split_crypted = int(np.floor(0.8 * num_train))\n",
    "\n",
    "clear_txt_train = tensor_clear_text[:train_split_clear]\n",
    "clear_txt_test = tensor_clear_text[train_split_clear:test_split_clear]\n",
    "clear_txt_valid = tensor_clear_text[test_split_clear:]\n",
    "\n",
    "crypted_txt_train = tensor_crypted_data[:train_split_crypted]\n",
    "crypted_txt_test = tensor_crypted_data[train_split_crypted:test_split_crypted]\n",
    "crypted_txt_valid = tensor_crypted_data[test_split_crypted:]"
   ],
   "metadata": {
    "collapsed": false,
    "pycharm": {
     "name": "#%%\n"
    }
   }
  },
  {
   "cell_type": "markdown",
   "source": [
    "## Create data loaders"
   ],
   "metadata": {
    "collapsed": false
   }
  },
  {
   "cell_type": "code",
   "execution_count": 4,
   "outputs": [],
   "source": [
    "train_clear_loader = DataLoader(clear_txt_train, batch_size=batch_size)\n",
    "train_crypted_loader = DataLoader(crypted_txt_train, batch_size=batch_size)"
   ],
   "metadata": {
    "collapsed": false,
    "pycharm": {
     "name": "#%%\n"
    }
   }
  },
  {
   "cell_type": "markdown",
   "source": [
    "## Init models"
   ],
   "metadata": {
    "collapsed": false
   }
  },
  {
   "cell_type": "code",
   "execution_count": 5,
   "outputs": [],
   "source": [
    "crypted_gen = Generator().to(device) # converts clear to crypted\n",
    "clear_gen = Generator().to(device) # converts crypted to clear\n",
    "crypted_discr = Discriminator().to(device)\n",
    "clear_discr = Discriminator().to(device)\n",
    "\n",
    "# Setup Adam optimizers for both generators\n",
    "optimizer_crypted_gen = optim.Adam(crypted_gen.parameters(), lr=lr)\n",
    "optimizer_clear_gen = optim.Adam(clear_gen.parameters(), lr=lr)\n",
    "\n",
    "# Setup Adam optimizers for both discriminators\n",
    "optimizer_crypted_discr= optim.Adam(crypted_discr.parameters(), lr=lr*0.01)\n",
    "optimizer_clear_discr = optim.Adam(clear_discr.parameters(), lr=lr*0.01)\n",
    "\n",
    "# Create Losses\n",
    "BCE = nn.BCELoss()\n",
    "cross_entropy = nn.CrossEntropyLoss()"
   ],
   "metadata": {
    "collapsed": false,
    "pycharm": {
     "name": "#%%\n"
    }
   }
  },
  {
   "cell_type": "markdown",
   "source": [
    "## init loop variables"
   ],
   "metadata": {
    "collapsed": false
   }
  },
  {
   "cell_type": "code",
   "execution_count": 6,
   "outputs": [],
   "source": [
    "crypted_gen_loss_hist = []\n",
    "clear_gen_loss_hist = []\n",
    "crypted_discr_loss_hist = []\n",
    "clear_discr_loss_hist = []\n",
    "crypted_gen_acc_hist = []\n",
    "clear_gen_acc_hist = []\n",
    "crypted_discr_acc_hist = []\n",
    "crypted_discr_acc_hist_fake = []\n",
    "clear_discr_acc_hist = []\n",
    "clear_discr_acc_hist_fake = []\n",
    "test_decrypted_accuracy_hist = []\n",
    "test_encrypted_accuracy_hist = []"
   ],
   "metadata": {
    "collapsed": false,
    "pycharm": {
     "name": "#%%\n"
    }
   }
  },
  {
   "cell_type": "code",
   "execution_count": 7,
   "outputs": [
    {
     "name": "stdout",
     "output_type": "stream",
     "text": [
      "(735, 216, 27) int32\n",
      "(735, 216, 27) int32\n"
     ]
    }
   ],
   "source": [
    "with torch.no_grad():\n",
    "    # Create the True encryption of each test instance\n",
    "    test_crypt_np = crypted_txt_test.view(-1,216,27).detach().numpy()\n",
    "    test_decrypted_np = ceasar_shift(test_crypt_np, -shift)\n",
    "    test_decrypted_np_char = np.argmax(test_decrypted_np, axis=2).reshape(-1)\n",
    "    test_decrypted = torch.from_numpy(test_decrypted_np_char).to(device)\n",
    "    crypted_txt_test = crypted_txt_test.float().to(device)\n",
    "\n",
    "    # Create the True decryption of each test instance\n",
    "    test_clear_np = clear_txt_test.view(-1,216,27).detach().numpy()\n",
    "    test_encrypted_np = ceasar_shift(test_clear_np, shift)\n",
    "    test_encrypted_np_char = np.argmax(test_encrypted_np, axis=2).reshape(-1)\n",
    "    test_encrypted = torch.from_numpy(test_encrypted_np_char).to(device)\n",
    "    clear_txt_test = clear_txt_test.float().to(device)"
   ],
   "metadata": {
    "collapsed": false,
    "pycharm": {
     "name": "#%%\n"
    }
   }
  },
  {
   "cell_type": "markdown",
   "source": [
    "# train loop"
   ],
   "metadata": {
    "collapsed": false,
    "pycharm": {
     "name": "#%% md\n"
    }
   }
  },
  {
   "cell_type": "code",
   "execution_count": 8,
   "outputs": [
    {
     "data": {
      "text/plain": "'epoch : 4'"
     },
     "metadata": {},
     "output_type": "display_data"
    },
    {
     "data": {
      "text/plain": "'iteration : 1'"
     },
     "metadata": {},
     "output_type": "display_data"
    },
    {
     "data": {
      "text/plain": "'train loss crypt gen : 32.49938201904297'"
     },
     "metadata": {},
     "output_type": "display_data"
    },
    {
     "data": {
      "text/plain": "'train loss clear gen : 30.3427734375'"
     },
     "metadata": {},
     "output_type": "display_data"
    },
    {
     "data": {
      "text/plain": "'train loss crypt disc : 0.8779851794242859'"
     },
     "metadata": {},
     "output_type": "display_data"
    },
    {
     "data": {
      "text/plain": "'train loss clear disc : 1.0966423749923706'"
     },
     "metadata": {},
     "output_type": "display_data"
    },
    {
     "data": {
      "text/plain": "'clear discr accuracy : 0.9921875'"
     },
     "metadata": {},
     "output_type": "display_data"
    },
    {
     "data": {
      "text/plain": "'clear discr fake accuracy : 0.42578125'"
     },
     "metadata": {},
     "output_type": "display_data"
    },
    {
     "data": {
      "text/plain": "'crypted discr accuracy : 0.86328125'"
     },
     "metadata": {},
     "output_type": "display_data"
    },
    {
     "data": {
      "text/plain": "'crypted discr fake accuracy : 0.84375'"
     },
     "metadata": {},
     "output_type": "display_data"
    },
    {
     "data": {
      "text/plain": "'clear gen accuracy : 0.0'"
     },
     "metadata": {},
     "output_type": "display_data"
    },
    {
     "data": {
      "text/plain": "'crypted gen accuracy : 0.0'"
     },
     "metadata": {},
     "output_type": "display_data"
    },
    {
     "data": {
      "text/plain": "'encrypting test accuracy : 0.022675735875964165'"
     },
     "metadata": {},
     "output_type": "display_data"
    },
    {
     "data": {
      "text/plain": "'decrypting test accuracy : 0.16219450533390045'"
     },
     "metadata": {},
     "output_type": "display_data"
    },
    {
     "ename": "KeyboardInterrupt",
     "evalue": "",
     "output_type": "error",
     "traceback": [
      "\u001B[1;31m---------------------------------------------------------------------------\u001B[0m",
      "\u001B[1;31mKeyboardInterrupt\u001B[0m                         Traceback (most recent call last)",
      "\u001B[1;32m~\\AppData\\Local\\Temp/ipykernel_34780/2705677063.py\u001B[0m in \u001B[0;36m<module>\u001B[1;34m\u001B[0m\n\u001B[0;32m     38\u001B[0m         \u001B[1;31m## train crypted discr on true data\u001B[0m\u001B[1;33m\u001B[0m\u001B[1;33m\u001B[0m\u001B[1;33m\u001B[0m\u001B[0m\n\u001B[0;32m     39\u001B[0m         \u001B[0mcrypted_discr\u001B[0m\u001B[1;33m.\u001B[0m\u001B[0mzero_grad\u001B[0m\u001B[1;33m(\u001B[0m\u001B[1;33m)\u001B[0m\u001B[1;33m\u001B[0m\u001B[1;33m\u001B[0m\u001B[0m\n\u001B[1;32m---> 40\u001B[1;33m         \u001B[0mpred_real_crypted\u001B[0m \u001B[1;33m=\u001B[0m \u001B[0mcrypted_discr\u001B[0m\u001B[1;33m(\u001B[0m\u001B[0mreal_crypted_text\u001B[0m\u001B[1;33m)\u001B[0m\u001B[1;33m\u001B[0m\u001B[1;33m\u001B[0m\u001B[0m\n\u001B[0m\u001B[0;32m     41\u001B[0m         \u001B[0mtrue_labels\u001B[0m \u001B[1;33m=\u001B[0m \u001B[0mtorch\u001B[0m\u001B[1;33m.\u001B[0m\u001B[0mfull\u001B[0m\u001B[1;33m(\u001B[0m\u001B[1;33m(\u001B[0m\u001B[0mlen\u001B[0m\u001B[1;33m(\u001B[0m\u001B[0mreal_crypted_text\u001B[0m\u001B[1;33m)\u001B[0m\u001B[1;33m,\u001B[0m\u001B[1;36m1\u001B[0m\u001B[1;33m)\u001B[0m\u001B[1;33m,\u001B[0m \u001B[1;36m1\u001B[0m\u001B[1;33m,\u001B[0m \u001B[0mdtype\u001B[0m\u001B[1;33m=\u001B[0m\u001B[0mtorch\u001B[0m\u001B[1;33m.\u001B[0m\u001B[0mfloat\u001B[0m\u001B[1;33m,\u001B[0m \u001B[0mdevice\u001B[0m\u001B[1;33m=\u001B[0m\u001B[0mdevice\u001B[0m\u001B[1;33m)\u001B[0m\u001B[1;33m\u001B[0m\u001B[1;33m\u001B[0m\u001B[0m\n\u001B[0;32m     42\u001B[0m         \u001B[0mbatch_crypted_d_true_loss\u001B[0m \u001B[1;33m=\u001B[0m \u001B[0mBCE\u001B[0m\u001B[1;33m(\u001B[0m\u001B[0mpred_real_crypted\u001B[0m\u001B[1;33m,\u001B[0m \u001B[0mtrue_labels\u001B[0m\u001B[1;33m)\u001B[0m\u001B[1;33m\u001B[0m\u001B[1;33m\u001B[0m\u001B[0m\n",
      "\u001B[1;32mc:\\users\\ansad\\documents\\masteris\\researchprojectmasteris\\gan\\venv\\lib\\site-packages\\torch\\nn\\modules\\module.py\u001B[0m in \u001B[0;36m_call_impl\u001B[1;34m(self, *input, **kwargs)\u001B[0m\n\u001B[0;32m   1100\u001B[0m         if not (self._backward_hooks or self._forward_hooks or self._forward_pre_hooks or _global_backward_hooks\n\u001B[0;32m   1101\u001B[0m                 or _global_forward_hooks or _global_forward_pre_hooks):\n\u001B[1;32m-> 1102\u001B[1;33m             \u001B[1;32mreturn\u001B[0m \u001B[0mforward_call\u001B[0m\u001B[1;33m(\u001B[0m\u001B[1;33m*\u001B[0m\u001B[0minput\u001B[0m\u001B[1;33m,\u001B[0m \u001B[1;33m**\u001B[0m\u001B[0mkwargs\u001B[0m\u001B[1;33m)\u001B[0m\u001B[1;33m\u001B[0m\u001B[1;33m\u001B[0m\u001B[0m\n\u001B[0m\u001B[0;32m   1103\u001B[0m         \u001B[1;31m# Do not call functions when jit is used\u001B[0m\u001B[1;33m\u001B[0m\u001B[1;33m\u001B[0m\u001B[1;33m\u001B[0m\u001B[0m\n\u001B[0;32m   1104\u001B[0m         \u001B[0mfull_backward_hooks\u001B[0m\u001B[1;33m,\u001B[0m \u001B[0mnon_full_backward_hooks\u001B[0m \u001B[1;33m=\u001B[0m \u001B[1;33m[\u001B[0m\u001B[1;33m]\u001B[0m\u001B[1;33m,\u001B[0m \u001B[1;33m[\u001B[0m\u001B[1;33m]\u001B[0m\u001B[1;33m\u001B[0m\u001B[1;33m\u001B[0m\u001B[0m\n",
      "\u001B[1;32m~\\Documents\\MasterIS\\ResearchProjectMasterIS\\GAN\\model.py\u001B[0m in \u001B[0;36mforward\u001B[1;34m(self, X)\u001B[0m\n\u001B[0;32m    209\u001B[0m \u001B[1;33m\u001B[0m\u001B[0m\n\u001B[0;32m    210\u001B[0m     \u001B[1;32mdef\u001B[0m \u001B[0mforward\u001B[0m\u001B[1;33m(\u001B[0m\u001B[0mself\u001B[0m\u001B[1;33m,\u001B[0m \u001B[0mX\u001B[0m\u001B[1;33m)\u001B[0m\u001B[1;33m:\u001B[0m\u001B[1;33m\u001B[0m\u001B[1;33m\u001B[0m\u001B[0m\n\u001B[1;32m--> 211\u001B[1;33m         \u001B[0mencoded\u001B[0m \u001B[1;33m=\u001B[0m \u001B[0mself\u001B[0m\u001B[1;33m.\u001B[0m\u001B[0mencoder\u001B[0m\u001B[1;33m(\u001B[0m\u001B[0mX\u001B[0m\u001B[1;33m)\u001B[0m\u001B[1;33m\u001B[0m\u001B[1;33m\u001B[0m\u001B[0m\n\u001B[0m\u001B[0;32m    212\u001B[0m         \u001B[1;32mreturn\u001B[0m \u001B[0mself\u001B[0m\u001B[1;33m.\u001B[0m\u001B[0mmlp\u001B[0m\u001B[1;33m(\u001B[0m\u001B[0mencoded\u001B[0m\u001B[1;33m.\u001B[0m\u001B[0mview\u001B[0m\u001B[1;33m(\u001B[0m\u001B[1;33m(\u001B[0m\u001B[1;33m-\u001B[0m\u001B[1;36m1\u001B[0m\u001B[1;33m,\u001B[0m \u001B[1;36m16\u001B[0m \u001B[1;33m*\u001B[0m \u001B[1;36m10\u001B[0m \u001B[1;33m*\u001B[0m \u001B[1;36m15\u001B[0m\u001B[1;33m)\u001B[0m\u001B[1;33m)\u001B[0m\u001B[1;33m)\u001B[0m\u001B[1;33m\u001B[0m\u001B[1;33m\u001B[0m\u001B[0m\n\u001B[0;32m    213\u001B[0m \u001B[1;33m\u001B[0m\u001B[0m\n",
      "\u001B[1;32mc:\\users\\ansad\\documents\\masteris\\researchprojectmasteris\\gan\\venv\\lib\\site-packages\\torch\\nn\\modules\\module.py\u001B[0m in \u001B[0;36m_call_impl\u001B[1;34m(self, *input, **kwargs)\u001B[0m\n\u001B[0;32m   1100\u001B[0m         if not (self._backward_hooks or self._forward_hooks or self._forward_pre_hooks or _global_backward_hooks\n\u001B[0;32m   1101\u001B[0m                 or _global_forward_hooks or _global_forward_pre_hooks):\n\u001B[1;32m-> 1102\u001B[1;33m             \u001B[1;32mreturn\u001B[0m \u001B[0mforward_call\u001B[0m\u001B[1;33m(\u001B[0m\u001B[1;33m*\u001B[0m\u001B[0minput\u001B[0m\u001B[1;33m,\u001B[0m \u001B[1;33m**\u001B[0m\u001B[0mkwargs\u001B[0m\u001B[1;33m)\u001B[0m\u001B[1;33m\u001B[0m\u001B[1;33m\u001B[0m\u001B[0m\n\u001B[0m\u001B[0;32m   1103\u001B[0m         \u001B[1;31m# Do not call functions when jit is used\u001B[0m\u001B[1;33m\u001B[0m\u001B[1;33m\u001B[0m\u001B[1;33m\u001B[0m\u001B[0m\n\u001B[0;32m   1104\u001B[0m         \u001B[0mfull_backward_hooks\u001B[0m\u001B[1;33m,\u001B[0m \u001B[0mnon_full_backward_hooks\u001B[0m \u001B[1;33m=\u001B[0m \u001B[1;33m[\u001B[0m\u001B[1;33m]\u001B[0m\u001B[1;33m,\u001B[0m \u001B[1;33m[\u001B[0m\u001B[1;33m]\u001B[0m\u001B[1;33m\u001B[0m\u001B[1;33m\u001B[0m\u001B[0m\n",
      "\u001B[1;32mc:\\users\\ansad\\documents\\masteris\\researchprojectmasteris\\gan\\venv\\lib\\site-packages\\torch\\nn\\modules\\container.py\u001B[0m in \u001B[0;36mforward\u001B[1;34m(self, input)\u001B[0m\n\u001B[0;32m    139\u001B[0m     \u001B[1;32mdef\u001B[0m \u001B[0mforward\u001B[0m\u001B[1;33m(\u001B[0m\u001B[0mself\u001B[0m\u001B[1;33m,\u001B[0m \u001B[0minput\u001B[0m\u001B[1;33m)\u001B[0m\u001B[1;33m:\u001B[0m\u001B[1;33m\u001B[0m\u001B[1;33m\u001B[0m\u001B[0m\n\u001B[0;32m    140\u001B[0m         \u001B[1;32mfor\u001B[0m \u001B[0mmodule\u001B[0m \u001B[1;32min\u001B[0m \u001B[0mself\u001B[0m\u001B[1;33m:\u001B[0m\u001B[1;33m\u001B[0m\u001B[1;33m\u001B[0m\u001B[0m\n\u001B[1;32m--> 141\u001B[1;33m             \u001B[0minput\u001B[0m \u001B[1;33m=\u001B[0m \u001B[0mmodule\u001B[0m\u001B[1;33m(\u001B[0m\u001B[0minput\u001B[0m\u001B[1;33m)\u001B[0m\u001B[1;33m\u001B[0m\u001B[1;33m\u001B[0m\u001B[0m\n\u001B[0m\u001B[0;32m    142\u001B[0m         \u001B[1;32mreturn\u001B[0m \u001B[0minput\u001B[0m\u001B[1;33m\u001B[0m\u001B[1;33m\u001B[0m\u001B[0m\n\u001B[0;32m    143\u001B[0m \u001B[1;33m\u001B[0m\u001B[0m\n",
      "\u001B[1;32mc:\\users\\ansad\\documents\\masteris\\researchprojectmasteris\\gan\\venv\\lib\\site-packages\\torch\\nn\\modules\\module.py\u001B[0m in \u001B[0;36m_call_impl\u001B[1;34m(self, *input, **kwargs)\u001B[0m\n\u001B[0;32m   1100\u001B[0m         if not (self._backward_hooks or self._forward_hooks or self._forward_pre_hooks or _global_backward_hooks\n\u001B[0;32m   1101\u001B[0m                 or _global_forward_hooks or _global_forward_pre_hooks):\n\u001B[1;32m-> 1102\u001B[1;33m             \u001B[1;32mreturn\u001B[0m \u001B[0mforward_call\u001B[0m\u001B[1;33m(\u001B[0m\u001B[1;33m*\u001B[0m\u001B[0minput\u001B[0m\u001B[1;33m,\u001B[0m \u001B[1;33m**\u001B[0m\u001B[0mkwargs\u001B[0m\u001B[1;33m)\u001B[0m\u001B[1;33m\u001B[0m\u001B[1;33m\u001B[0m\u001B[0m\n\u001B[0m\u001B[0;32m   1103\u001B[0m         \u001B[1;31m# Do not call functions when jit is used\u001B[0m\u001B[1;33m\u001B[0m\u001B[1;33m\u001B[0m\u001B[1;33m\u001B[0m\u001B[0m\n\u001B[0;32m   1104\u001B[0m         \u001B[0mfull_backward_hooks\u001B[0m\u001B[1;33m,\u001B[0m \u001B[0mnon_full_backward_hooks\u001B[0m \u001B[1;33m=\u001B[0m \u001B[1;33m[\u001B[0m\u001B[1;33m]\u001B[0m\u001B[1;33m,\u001B[0m \u001B[1;33m[\u001B[0m\u001B[1;33m]\u001B[0m\u001B[1;33m\u001B[0m\u001B[1;33m\u001B[0m\u001B[0m\n",
      "\u001B[1;32mc:\\users\\ansad\\documents\\masteris\\researchprojectmasteris\\gan\\venv\\lib\\site-packages\\torch\\nn\\modules\\conv.py\u001B[0m in \u001B[0;36mforward\u001B[1;34m(self, input)\u001B[0m\n\u001B[0;32m    444\u001B[0m \u001B[1;33m\u001B[0m\u001B[0m\n\u001B[0;32m    445\u001B[0m     \u001B[1;32mdef\u001B[0m \u001B[0mforward\u001B[0m\u001B[1;33m(\u001B[0m\u001B[0mself\u001B[0m\u001B[1;33m,\u001B[0m \u001B[0minput\u001B[0m\u001B[1;33m:\u001B[0m \u001B[0mTensor\u001B[0m\u001B[1;33m)\u001B[0m \u001B[1;33m->\u001B[0m \u001B[0mTensor\u001B[0m\u001B[1;33m:\u001B[0m\u001B[1;33m\u001B[0m\u001B[1;33m\u001B[0m\u001B[0m\n\u001B[1;32m--> 446\u001B[1;33m         \u001B[1;32mreturn\u001B[0m \u001B[0mself\u001B[0m\u001B[1;33m.\u001B[0m\u001B[0m_conv_forward\u001B[0m\u001B[1;33m(\u001B[0m\u001B[0minput\u001B[0m\u001B[1;33m,\u001B[0m \u001B[0mself\u001B[0m\u001B[1;33m.\u001B[0m\u001B[0mweight\u001B[0m\u001B[1;33m,\u001B[0m \u001B[0mself\u001B[0m\u001B[1;33m.\u001B[0m\u001B[0mbias\u001B[0m\u001B[1;33m)\u001B[0m\u001B[1;33m\u001B[0m\u001B[1;33m\u001B[0m\u001B[0m\n\u001B[0m\u001B[0;32m    447\u001B[0m \u001B[1;33m\u001B[0m\u001B[0m\n\u001B[0;32m    448\u001B[0m \u001B[1;32mclass\u001B[0m \u001B[0mConv3d\u001B[0m\u001B[1;33m(\u001B[0m\u001B[0m_ConvNd\u001B[0m\u001B[1;33m)\u001B[0m\u001B[1;33m:\u001B[0m\u001B[1;33m\u001B[0m\u001B[1;33m\u001B[0m\u001B[0m\n",
      "\u001B[1;32mc:\\users\\ansad\\documents\\masteris\\researchprojectmasteris\\gan\\venv\\lib\\site-packages\\torch\\nn\\modules\\conv.py\u001B[0m in \u001B[0;36m_conv_forward\u001B[1;34m(self, input, weight, bias)\u001B[0m\n\u001B[0;32m    440\u001B[0m                             \u001B[0mweight\u001B[0m\u001B[1;33m,\u001B[0m \u001B[0mbias\u001B[0m\u001B[1;33m,\u001B[0m \u001B[0mself\u001B[0m\u001B[1;33m.\u001B[0m\u001B[0mstride\u001B[0m\u001B[1;33m,\u001B[0m\u001B[1;33m\u001B[0m\u001B[1;33m\u001B[0m\u001B[0m\n\u001B[0;32m    441\u001B[0m                             _pair(0), self.dilation, self.groups)\n\u001B[1;32m--> 442\u001B[1;33m         return F.conv2d(input, weight, bias, self.stride,\n\u001B[0m\u001B[0;32m    443\u001B[0m                         self.padding, self.dilation, self.groups)\n\u001B[0;32m    444\u001B[0m \u001B[1;33m\u001B[0m\u001B[0m\n",
      "\u001B[1;31mKeyboardInterrupt\u001B[0m: "
     ]
    }
   ],
   "source": [
    "torch.autograd.set_detect_anomaly(True)\n",
    "for epoch in range(num_epochs):\n",
    "\n",
    "    dataloader_iterator = iter(train_crypted_loader)\n",
    "\n",
    "    for i, clear in enumerate(train_clear_loader):\n",
    "        crypted_gen.train()\n",
    "        clear_gen.train()\n",
    "        crypted_discr.train()\n",
    "        clear_discr.train()\n",
    "        try:\n",
    "            crypted = next(dataloader_iterator)\n",
    "        except StopIteration:\n",
    "            dataloader_iterator = iter(train_clear_loader)\n",
    "            crypted = next(dataloader_iterator)\n",
    "\n",
    "        real_clear_text = clear.to(device)\n",
    "        real_crypted_text = crypted.to(device)\n",
    "        fake_clear_text = clear_gen(real_crypted_text)\n",
    "        fake_crypted_text = crypted_gen(real_clear_text)\n",
    "\n",
    "        ## train clear discr on true data\n",
    "        clear_discr.zero_grad()\n",
    "        pred_real_clear = clear_discr(real_clear_text)\n",
    "        true_labels = torch.full((len(real_clear_text),1), 1, dtype=torch.float, device=device)\n",
    "        batch_clear_d_true_loss = BCE(pred_real_clear, true_labels)\n",
    "        batch_clear_d_true_loss.backward()\n",
    "\n",
    "        ## train clear Discr on fake data.py\n",
    "        pred_fake_clear  = clear_discr(fake_clear_text.detach())\n",
    "        fake_labels = torch.full((len(real_clear_text),1), 0, dtype=torch.float, device=device)\n",
    "        batch_clear_d_fake_loss = BCE(pred_fake_clear, fake_labels)\n",
    "        batch_clear_d_fake_loss.backward()\n",
    "        error_d_clear = batch_clear_d_fake_loss + batch_clear_d_true_loss\n",
    "        clear_discr_loss_hist.append(error_d_clear.item())\n",
    "        optimizer_clear_discr.step()\n",
    "\n",
    "        ## train crypted discr on true data\n",
    "        crypted_discr.zero_grad()\n",
    "        pred_real_crypted = crypted_discr(real_crypted_text)\n",
    "        true_labels = torch.full((len(real_crypted_text),1), 1, dtype=torch.float, device=device)\n",
    "        batch_crypted_d_true_loss = BCE(pred_real_crypted, true_labels)\n",
    "        batch_crypted_d_true_loss.backward()\n",
    "\n",
    "        ## train crypted Discr on fake data\n",
    "        pred_fake_crypted  = crypted_discr(fake_crypted_text.detach())\n",
    "        fake_labels = torch.full((len(fake_crypted_text),1), 0, dtype=torch.float, device=device)\n",
    "        batch_crypted_d_fake_loss = BCE(pred_fake_crypted, fake_labels)\n",
    "        batch_crypted_d_fake_loss.backward()\n",
    "        error_d_crypted = batch_crypted_d_fake_loss + batch_crypted_d_true_loss\n",
    "        crypted_discr_loss_hist.append(error_d_crypted.item())\n",
    "        optimizer_crypted_discr.step()\n",
    "\n",
    "        ## train clear gen\n",
    "        clear_gen.zero_grad()\n",
    "        crypted_gen.zero_grad()\n",
    "        gen_fake_clear = clear_discr(fake_clear_text)\n",
    "        gen_labels = torch.full((len(fake_clear_text),1), 1, dtype=torch.float, device=device)\n",
    "        fake_gen_clear_loss = BCE(gen_fake_clear, gen_labels)\n",
    "        fake_gen_clear_loss.backward()\n",
    "\n",
    "        fake_crypted_reconstruct = crypted_gen(clear_gen(real_crypted_text))\n",
    "        fake_crypted_reconstruct_loss = torch.linalg.norm(fake_crypted_reconstruct - real_crypted_text, dim=(2,3)).mean() * reg\n",
    "        # fake_crypted_reconstruct_loss = cross_entropy(fake_crypted_reconstruct.view(-1, 216, 27).transpose(1,2), torch.argmax(real_crypted_text, 3).view(-1,216))\n",
    "        fake_crypted_reconstruct_loss.backward()\n",
    "\n",
    "        fake_clear_reconstruct =  clear_gen(crypted_gen(real_clear_text))\n",
    "        fake_clear_reconstruct_loss = torch.linalg.norm(fake_clear_reconstruct - real_clear_text, dim=(2,3)).mean() * reg\n",
    "        # fake_clear_reconstruct_loss = cross_entropy(fake_clear_reconstruct.view(-1, 216, 27).transpose(1,2), torch.argmax(real_clear_text, 3).view(-1,216))\n",
    "        fake_clear_reconstruct_loss.backward()\n",
    "\n",
    "        batch_clear_gen_loss = fake_gen_clear_loss + fake_crypted_reconstruct_loss + fake_clear_reconstruct_loss\n",
    "        # batch_clear_gen_loss.backward()\n",
    "        optimizer_clear_gen.step()\n",
    "        clear_gen_loss_hist.append(batch_clear_gen_loss.item())\n",
    "\n",
    "        ## train crypted gen\n",
    "        crypted_gen.zero_grad()\n",
    "        clear_gen.zero_grad()\n",
    "        gen_fake_crypted = crypted_discr(fake_crypted_text)\n",
    "        gen_labels = torch.full((len(fake_crypted_text),1), 1, dtype=torch.float, device=device)\n",
    "        fake_gen_crypted_loss = BCE(gen_fake_crypted, gen_labels)\n",
    "        fake_gen_crypted_loss.backward()\n",
    "\n",
    "        fake_crypted_reconstruct = crypted_gen(clear_gen(real_crypted_text))\n",
    "        fake_crypted_reconstruct_loss = torch.linalg.norm(fake_crypted_reconstruct - real_crypted_text, dim=(2,3)).mean() * reg\n",
    "        # fake_crypted_reconstruct_loss = cross_entropy(fake_crypted_reconstruct.view(-1, 216, 27).transpose(1,2), torch.argmax(real_crypted_text, 3).view(-1,216))\n",
    "        fake_crypted_reconstruct_loss.backward()\n",
    "\n",
    "        fake_clear_reconstruct =  clear_gen(crypted_gen(real_clear_text))\n",
    "        fake_clear_reconstruct_loss = torch.linalg.norm(fake_clear_reconstruct - real_clear_text, dim=(2,3)).mean() * reg\n",
    "        # fake_clear_reconstruct_loss = cross_entropy(fake_clear_reconstruct.view(-1, 216, 27).transpose(1,2), torch.argmax(real_clear_text, 3).view(-1,216))\n",
    "        fake_clear_reconstruct_loss.backward()\n",
    "\n",
    "        batch_crypted_gen_loss = fake_gen_crypted_loss + fake_crypted_reconstruct_loss + fake_clear_reconstruct_loss\n",
    "        # batch_crypted_gen_loss.backward()\n",
    "        optimizer_crypted_gen.step()\n",
    "        crypted_gen_loss_hist.append(batch_crypted_gen_loss.item())\n",
    "        # print(epoch, i,crypted_gen_loss_hist[-1],clear_gen_loss_hist[-1],crypted_discr_loss_hist[-1],clear_discr_loss_hist[-1])\n",
    "        crypted_gen.eval()\n",
    "        clear_gen.eval()\n",
    "        crypted_discr.eval()\n",
    "        clear_discr.eval()\n",
    "        with torch.no_grad():\n",
    "            test_decrypted_gen = clear_gen(crypted_txt_test).view(-1,216,27).detach()\n",
    "            test_decrypted_gen_char = torch.argmax(test_decrypted_gen, 2).view(-1)\n",
    "            test_decrypted_accuracy = (test_decrypted==test_decrypted_gen_char).sum()/len(test_decrypted_gen_char)\n",
    "            test_decrypted_accuracy_hist.append(test_decrypted_accuracy.to(\"cpu\").item())\n",
    "\n",
    "            test_encrypted_gen = crypted_gen(clear_txt_test).view(-1,216,27).detach()\n",
    "            test_encrypted_gen_char = torch.argmax(test_encrypted_gen, 2).view(-1)\n",
    "            test_encrypted_accuracy = (test_encrypted==test_encrypted_gen_char).sum()/len(test_encrypted_gen_char)\n",
    "            test_encrypted_accuracy_hist.append(test_encrypted_accuracy.to(\"cpu\").item())\n",
    "\n",
    "            clear_discr_accuracy = torch.where(pred_real_clear >= 0.5, 1.0, 0.0).mean()\n",
    "            clear_discr_accuracy_fake = torch.where((1-pred_fake_clear) >= 0.5, 1.0, 0.0).mean()\n",
    "            clear_discr_acc_hist.append(clear_discr_accuracy.to(\"cpu\").item())\n",
    "            clear_discr_acc_hist_fake.append(clear_discr_accuracy_fake.to(\"cpu\").item())\n",
    "            crypted_discr_accuracy = torch.where(pred_real_crypted >= 0.5, 1.0, 0.0).mean()\n",
    "            crypted_discr_accuracy_fake = torch.where((1-pred_fake_crypted) >= 0.5, 1.0, 0.0).mean()\n",
    "            crypted_discr_acc_hist.append(crypted_discr_accuracy.to(\"cpu\").item())\n",
    "            crypted_discr_acc_hist_fake.append(crypted_discr_accuracy_fake.to(\"cpu\").item())\n",
    "            clear_gen_accuracy = torch.where(gen_fake_clear >= 0.5, 1.0, 0.0).mean()\n",
    "            clear_gen_acc_hist.append(clear_gen_accuracy.to(\"cpu\").item())\n",
    "            crypted_gen_accuracy = torch.where(gen_fake_crypted >= 0.5, 1.0, 0.0).mean()\n",
    "            crypted_gen_acc_hist.append(clear_gen_accuracy.to(\"cpu\").item())\n",
    "        clear_output()\n",
    "        display(\"epoch : \" + str(epoch))\n",
    "        display(\"iteration : \" + str(i))\n",
    "        display(\"train loss crypt gen : \" + str(crypted_gen_loss_hist[-1]))\n",
    "        display(\"train loss clear gen : \" + str(clear_gen_loss_hist[-1]))\n",
    "        display(\"train loss crypt disc : \" + str(crypted_discr_loss_hist[-1]))\n",
    "        display(\"train loss clear disc : \" + str(clear_discr_loss_hist[-1]))\n",
    "        display(\"clear discr accuracy : \" + str(clear_discr_acc_hist[-1]))\n",
    "        display(\"clear discr fake accuracy : \" + str(clear_discr_acc_hist_fake[-1]))\n",
    "        display(\"crypted discr accuracy : \" + str(crypted_discr_acc_hist[-1]))\n",
    "        display(\"crypted discr fake accuracy : \" + str(crypted_discr_acc_hist_fake[-1]))\n",
    "        display(\"clear gen accuracy : \" + str(clear_gen_acc_hist[-1]))\n",
    "        display(\"crypted gen accuracy : \" + str(crypted_gen_acc_hist[-1]))\n",
    "        display(\"encrypting test accuracy : \" +str(test_encrypted_accuracy_hist[-1]))\n",
    "        display(\"decrypting test accuracy : \" +str(test_decrypted_accuracy_hist[-1]))\n",
    "\n"
   ],
   "metadata": {
    "collapsed": false,
    "pycharm": {
     "name": "#%%\n"
    }
   }
  },
  {
   "cell_type": "code",
   "execution_count": null,
   "outputs": [],
   "source": [
    "\n",
    "plt.figure()\n",
    "plt.title(\"chyper gen loss history\")\n",
    "plt.plot(crypted_gen_loss_hist)\n",
    "plt.show()\n",
    "plt.close()\n",
    "plt.figure()\n",
    "plt.title(\"clear gen loss history\")\n",
    "plt.plot(clear_gen_loss_hist)\n",
    "plt.show()\n",
    "plt.close()\n",
    "plt.figure()\n",
    "plt.title(\"chypher discrimnator loss history\")\n",
    "plt.plot(crypted_discr_loss_hist)\n",
    "plt.show()\n",
    "plt.close()\n",
    "plt.figure()\n",
    "plt.title(\"clear discriminator loss history\")\n",
    "plt.plot(clear_discr_loss_hist)\n",
    "plt.show()\n",
    "plt.close()\n",
    "plt.figure()\n",
    "plt.title(\"cypher to clear accuracy\")\n",
    "plt.plot(test_decrypted_accuracy_hist)\n",
    "plt.show()\n",
    "plt.close()\n",
    "plt.figure()\n",
    "plt.title(\"clear to cypher accuracy\")\n",
    "plt.plot(test_encrypted_accuracy_hist)\n",
    "plt.show()\n",
    "plt.close()"
   ],
   "metadata": {
    "collapsed": false,
    "pycharm": {
     "name": "#%%\n"
    }
   }
  },
  {
   "cell_type": "code",
   "execution_count": null,
   "outputs": [],
   "source": [
    "crypted_gen.eval()\n",
    "clear_gen.eval()\n",
    "crypted_discr.eval()\n",
    "clear_discr.eval()\n",
    "\n",
    "with torch.no_grad():\n",
    "    clear_gen = clear_gen.to(\"cpu\")\n",
    "    val_crypt_np = crypted_txt_valid.view(-1,216,27).detach().numpy()\n",
    "    decrypted_np = ceasar_shift(val_crypt_np, -shift)\n",
    "    decrypted_gen = clear_gen(crypted_txt_valid).view(-1,216,27).detach().numpy()\n",
    "    decrypted_np_char = np.argmax(decrypted_np, axis=2).reshape(-1)\n",
    "    decrypted_gen_char = np.argmax(decrypted_gen, axis=2).reshape(-1)\n",
    "    print((decrypted_np_char == decrypted_gen_char).mean())"
   ],
   "metadata": {
    "collapsed": false,
    "pycharm": {
     "name": "#%%\n"
    }
   }
  },
  {
   "cell_type": "code",
   "execution_count": null,
   "outputs": [],
   "source": [
    "with torch.no_grad():\n",
    "    crypted_gen = crypted_gen.to(\"cpu\")\n",
    "    val_clear_np = clear_txt_valid.view(-1,216,27).detach().numpy()\n",
    "    encrypted_np = ceasar_shift(val_clear_np, shift)\n",
    "    encrypted_gen = crypted_gen(clear_txt_valid).view(-1,216,27).detach().numpy()\n",
    "    encrypted_np_char = np.argmax(encrypted_np, axis=2).reshape(-1)\n",
    "    encrypted_gen_char = np.argmax(encrypted_gen, axis=2).reshape(-1)\n",
    "    print((encrypted_np_char == encrypted_gen_char).mean())"
   ],
   "metadata": {
    "collapsed": false,
    "pycharm": {
     "name": "#%%\n"
    }
   }
  },
  {
   "cell_type": "code",
   "execution_count": null,
   "outputs": [],
   "source": [
    "torch.save(crypted_gen.state_dict(), \"crypted_gen\")\n",
    "torch.save(clear_gen.state_dict(), \"clear_gen\")\n",
    "torch.save(crypted_discr.state_dict(), \"crypted_disc\")\n",
    "torch.save(clear_discr.state_dict(), \"clear_discr\")"
   ],
   "metadata": {
    "collapsed": false,
    "pycharm": {
     "name": "#%%\n"
    }
   }
  }
 ],
 "metadata": {
  "kernelspec": {
   "display_name": "Python 3",
   "language": "python",
   "name": "python3"
  },
  "language_info": {
   "codemirror_mode": {
    "name": "ipython",
    "version": 2
   },
   "file_extension": ".py",
   "mimetype": "text/x-python",
   "name": "python",
   "nbconvert_exporter": "python",
   "pygments_lexer": "ipython2",
   "version": "2.7.6"
  }
 },
 "nbformat": 4,
 "nbformat_minor": 0
}